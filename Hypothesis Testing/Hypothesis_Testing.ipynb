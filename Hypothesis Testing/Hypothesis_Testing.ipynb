{
 "cells": [
  {
   "cell_type": "markdown",
   "metadata": {},
   "source": [
    "# One Sample Proportion\n",
    "### Hypothesis Testing"
   ]
  },
  {
   "cell_type": "markdown",
   "metadata": {},
   "source": [
    "               Reasearch Question\n",
    "               \n",
    "### In previous years 52% of parents believed that electronics and social media was the couse of thier teenager's lack of sleep. Do more parents today believe that thier teenager's lack of sleep is caused due to electronics and social media ?\n",
    "\n",
    "Population - Parents with teenager (age 13-18)\n",
    "Parameter of. Interest - p  \n",
    "\n",
    "Test for signinficant increase in the proportion of parents with a teenager who believe that electronic and social media is the cause for lack of sleep.\n",
    "\n",
    "**Population**: Parents with a teenager (age 13-18)  \n",
    "**Parameter of Interest**: p  \n",
    "**Null Hypothesis:** p = 0.52  \n",
    "**Alternative Hypthosis:** p > 0.52 (note that this is a one-sided test)\n",
    "\n",
    "$H_0$ :p = 0.52<br>\n",
    "$H_a$ :p > 0.52  \"Significant Increase\"<br>\n",
    "\n",
    "WHere p is the population of parents with teenager who believe that electronics and social media is the cause of their teenager's lack of sleep.<br>\n",
    "\n",
    "$\\alpha$ = 0.05 (significance level which cuttoff point of when something to be significant) <br>\n",
    "\n",
    "A **random sample of 1018 parents** with teenager was taken and 56% said they believe electronics and social media was the cause of thier teenager's lack of sleep.\n",
    "\n",
    "              Assumptions\n",
    "              \n",
    "We need **random sample** of parents<br>\n",
    "We also need a **large enough sample size** to ensure our distribution of sample proportions is normal <br>\n",
    "That is:  \n",
    "- n * p \n",
    "     - be at least 10  --> n*$p_0$<br>\n",
    "- n * (1-p) \n",
    "     - be at least 10  --> n * (1- $p_0$)<br>\n",
    "Instead of using p we're going to use a psuedo p, which is p naught and that is the null population proportion. So under null hypothesis we believe our population proportion for this case is 0.52 and our n 1018.           "
   ]
  },
  {
   "cell_type": "code",
   "execution_count": 1,
   "metadata": {},
   "outputs": [
    {
     "data": {
      "text/plain": [
       "529.36"
      ]
     },
     "execution_count": 1,
     "metadata": {},
     "output_type": "execute_result"
    }
   ],
   "source": [
    "# n*p_0\n",
    "1018*0.52"
   ]
  },
  {
   "cell_type": "code",
   "execution_count": 2,
   "metadata": {},
   "outputs": [
    {
     "data": {
      "text/plain": [
       "488.64"
      ]
     },
     "execution_count": 2,
     "metadata": {},
     "output_type": "execute_result"
    }
   ],
   "source": [
    "# n*(1-p_0)\n",
    "1018*(1-0.52)"
   ]
  },
  {
   "cell_type": "markdown",
   "metadata": {},
   "source": [
    "Both the Figure are greater then 10 so we can say we have large enough sample size"
   ]
  },
  {
   "cell_type": "markdown",
   "metadata": {},
   "source": [
    "### Calculating\n",
    "- test statistics,\n",
    "- p-value and \n",
    "- conclusion\n",
    "\n",
    "updated information:\n",
    "    From the poll we have the best estimate of p, which is p-hat, to be 0.56 of a sample size of 1018.\n",
    "    \n",
    "$$\\hat {p} = 0.56$$ \n",
    "\n",
    "TEST STATISTICS<br>\n",
    "$$\\frac{Best \\ estimate \\ - \\ Hypothesized \\ estimate}{Standard \\ Error \\ of \\ Estimate}$$ \n",
    "\n",
    "which is:<br>\n",
    "$$\\frac{\\hat p- p_0}{s.e.}$$ <br>\n",
    "\n",
    "$$s.e.(\\hat p)  = \\sqrt \\frac {p*(1-p)}{n}$$ <br>\n",
    "\n",
    "But. we don't know what p is but we have a good guess which is phat<br>\n",
    "$$\\ Null \\ s.e.(\\hat p)  = \\sqrt \\frac {p_0*(1-p_0)}{n}$$ <br>\n",
    "\n",
    "$$\\ Null \\ s.e.(\\hat p)  = \\sqrt \\frac {0.56*(1-0.56)}{1018} = 0.0157$$ <br>\n",
    "\n",
    "we call this null standard error. so under null hypothesis we have this standard error for our p hat.<br>\n",
    " z = $$\\frac{0.56-0.52}{0.0157}$$\n",
    "                       "
   ]
  },
  {
   "cell_type": "code",
   "execution_count": 1,
   "metadata": {},
   "outputs": [
    {
     "data": {
      "text/plain": [
       "0.015557738331901886"
      ]
     },
     "execution_count": 1,
     "metadata": {},
     "output_type": "execute_result"
    }
   ],
   "source": [
    "import numpy as np\n",
    "\n",
    "null_se= np.sqrt((0.56*(1-0.56))/(1018))\n",
    "null_se"
   ]
  },
  {
   "cell_type": "code",
   "execution_count": 2,
   "metadata": {},
   "outputs": [
    {
     "data": {
      "text/plain": [
       "2.57107413049487"
      ]
     },
     "execution_count": 2,
     "metadata": {},
     "output_type": "execute_result"
    }
   ],
   "source": [
    "z = (0.56-0.52)/(0.0155577)\n",
    "z"
   ]
  },
  {
   "cell_type": "code",
   "execution_count": 3,
   "metadata": {},
   "outputs": [
    {
     "data": {
      "text/plain": [
       "(2.571067795759113, 0.005069273865860533)"
      ]
     },
     "execution_count": 3,
     "metadata": {},
     "output_type": "execute_result"
    }
   ],
   "source": [
    "import statsmodels.api as sm\n",
    "import numpy as np\n",
    "import pandas as pd\n",
    "import scipy.stats.distributions as dist\n",
    "\n",
    "n = 1018\n",
    "pnull = .52\n",
    "phat = .56\n",
    "sm.stats.proportions_ztest(phat * n, n, pnull, alternative='larger')"
   ]
  },
  {
   "cell_type": "markdown",
   "metadata": {},
   "source": [
    "Test Statistics Interpretation\n",
    "\n",
    "z = 2.555<br>\n",
    "That means that our observed sample proportion is **2.55** null standard errors above our hypothesized population proportion.\n",
    "\n",
    "- Z test statistics is another random variable. its has a distribution.\n",
    "- The Z test statistics will always follow a N(0,1)\n",
    "- This is due to us centering and scaling our original data. $\\hat p - p_0$( centering) & divind by $s.e.(\\hat p)$ is scaling the data.\n",
    "\n",
    "Further calculating will give the P value = 0.0053.\n",
    "\n",
    "                     Conclusions\n",
    "                     \n",
    "- p value = 0.0053 < $\\alpha$ = 0.05\n",
    "- Reject the null hypothesis($H_0$:p = 0.52)\n",
    "\n",
    "There is sufficient evidence to conclude that the population proportion of parents with teenager who believe that electronic and social media is cause for alck of sleep is greater than 52%."
   ]
  },
  {
   "cell_type": "markdown",
   "metadata": {},
   "source": [
    "# Two sample proprtion\n",
    "\n",
    "### Research Question\n",
    "\n",
    "Is there a significant difference between the population proportion of parents of black children and parents of Hispanic children who report that thier child has has some swimming lessons?\n",
    "\n",
    "Population- All parents of black children age 6-18 and all parents of Hispanic children age 6-18\n",
    "\n",
    "Parameter of Interest = $p_1$ - $p_2$  ( 1 is black and 2 = Hispanic)\n",
    "\n",
    "$1^{st}$ important step is to set significance level which is set to be 10%.\n",
    "\n",
    "Null hypothesis $H_0$: $p_1$ - $p_2$ = 0<br>\n",
    "Alt hypothesis  $H_a$: $p_1$ - $p_2$ $\\neq$  0<br>\n",
    "$\\alpha$ = 0.10 ( alpha equal tp 10 percent of equals to 0.1)\n",
    "\n",
    "                   Survey Results\n",
    "- A sample of 247 parents of black children age 6-18 was taken with 91 saying that their child has has some swimming lessons.\n",
    "- A sample of 308 parents of Hispanic children age 6-18 was taken with 120 saying that thier child has had some swimming lessons.\n",
    "      \n",
    "                    Assumptions\n",
    "- we need to assume that we have $\\underline{two\\  independent\\ random\\ samples.}$  \n",
    "- We also need $\\underline{ large\\ enough\\ sample\\ sizes}$ to assume that the distribution of our estimate is normal. That is, we need $n_1\\hat p,\\  n_1(1-\\hat p),\\ n_2\\hat p$, $\\ and \\ n_2(1-\\hat p)$ to all be at least 10.<br>\n",
    "That is, we need to estimate the common proportion, and then make sure that we would expect at least 10 yes's and 10'no in each sample.\n",
    "\n",
    "                Checking Assumptions\n",
    "$\\hat p$ = (91+120)/(247+308) = 211/555 = 0.38<br>\n",
    "\n",
    "247(0.38) = 94;<br>\n",
    "247(1-0.38) = 153<br>\n",
    "308(0.38) = 117;<br>\n",
    "308(1-0.38) = 191<br>\n",
    "  \n",
    "             Best Estimate of the Parameter\n",
    "$\\hat p_1$ = 91/247 = 0.37 (black = 1)<br>\n",
    "$\\hat p_2$ = 120/308 = 0.39 (Hispanic = 2)<br>\n",
    "$\\hat p_2 \\ - \\ \\hat p_2$ = 0.37 - 0.39 = -0.02<br>\n",
    "\n",
    "We see that the difference is negative 0.02 meaning that the sample proportion for black children is smaller than the sample proportion for Hispanic Children."
   ]
  },
  {
   "cell_type": "markdown",
   "metadata": {},
   "source": [
    "# Difference in Population Proportions\n",
    "\n",
    "#### Research Question\n",
    "\n",
    "Is there a significant difference between the population proportions of parents of black children and parents of Hispanic children who report that their child has had some swimming lessons?\n",
    "\n",
    "**Populations**: All parents of black children age 6-18 and all parents of Hispanic children age 6-18  \n",
    "**Parameter of Interest**: p1 - p2, where p1 = black and p2 = hispanic  \n",
    "**Null Hypothesis:** $h_0:$ p1 - p2 = 0  \n",
    "**Alternative Hypthosis:** $h_a:$ p1 - p2 $\\neq$ = 0  \n",
    "\n",
    "testing this in an aplha equals $\\alpha$ 0.10 level\n",
    "\n",
    "91 out of 247 (36.8%) sampled parents of black children report that their child has had some swimming lessons.\n",
    "\n",
    "120 out of 308 (38.9%) sampled parents of Hispanic children report that their child has had some swimming lessons.\n",
    "\n",
    "We calculated our best estimater<br>\n",
    " \n",
    "              Best Estimate of the Parameter       \n",
    "$\\hat p_1$ = 91/247 = 0.37 (black = 1)<br>\n",
    "$\\hat p_2$ = 120/308 = 0.39 (Hispanic = 2)<br>\n",
    "$\\hat p_2 \\ - \\ \\hat p_2$ = 0.37 - 0.39 = -0.02<br>\n",
    "\n",
    "                    TEST STATISTICS\n",
    "$$\\frac{Best \\ estimate \\ - \\ Hypothesized \\ estimate}{Standard \\ Error \\ of \\ Estimate}$$ \n",
    "\n",
    "$$\\frac {\\hat p_1 - \\hat p_2 -0}{se(\\hat p)}$$\n",
    "\n",
    "where $se(\\hat p)=\\sqrt{\\hat p(1- \\hat p) (\\frac{1}{n_1} + \\frac{1}{n_2})}$\n",
    "\n",
    "            z = -0.02/0.041 = -0.48\n",
    "       \n",
    "That means our observed difference in sample proportions is `0.48 estimated` standard errors below our hypothesized mean of equal population proportions."
   ]
  },
  {
   "cell_type": "code",
   "execution_count": 4,
   "metadata": {},
   "outputs": [],
   "source": [
    "# Sample sizes\n",
    "n1 = 247\n",
    "n2 = 308"
   ]
  },
  {
   "cell_type": "code",
   "execution_count": 5,
   "metadata": {},
   "outputs": [],
   "source": [
    "# Number of parents reporting that their child had some swimming lessons\n",
    "y1 = 91\n",
    "y2 = 120"
   ]
  },
  {
   "cell_type": "code",
   "execution_count": 6,
   "metadata": {},
   "outputs": [
    {
     "name": "stdout",
     "output_type": "stream",
     "text": [
      "0.37 0.39\n"
     ]
    }
   ],
   "source": [
    "# Estimates of the population proportions\n",
    "p1 = round(y1 / n1, 2)\n",
    "p2 = round(y2 / n2, 2)\n",
    "print(p1,p2)"
   ]
  },
  {
   "cell_type": "code",
   "execution_count": 7,
   "metadata": {},
   "outputs": [
    {
     "name": "stdout",
     "output_type": "stream",
     "text": [
      "phat= 0.3801801801801802\n"
     ]
    }
   ],
   "source": [
    "# Estimate of the combined population proportion\n",
    "phat = (y1 + y2) / (n1 + n2)\n",
    "print('phat=',phat)"
   ]
  },
  {
   "cell_type": "code",
   "execution_count": 8,
   "metadata": {},
   "outputs": [
    {
     "name": "stdout",
     "output_type": "stream",
     "text": [
      "va= 0.2356432107783459\n",
      "se= 0.04146198808473324\n"
     ]
    }
   ],
   "source": [
    "# Estimate of the variance of the combined population proportion\n",
    "va = phat * (1 - phat)\n",
    "print('va=',va)\n",
    "\n",
    "# Estimate of the standard error of the combined population proportion\n",
    "se = np.sqrt(va * (1 / n1 + 1 / n2))\n",
    "print('se=',se)"
   ]
  },
  {
   "cell_type": "code",
   "execution_count": 9,
   "metadata": {},
   "outputs": [],
   "source": [
    "# Test statistic and its p-value\n",
    "test_stat = (p1 - p2) / se\n",
    "\n",
    "pvalue = 2*dist.norm.cdf(-np.abs(test_stat))"
   ]
  },
  {
   "cell_type": "code",
   "execution_count": 10,
   "metadata": {},
   "outputs": [
    {
     "name": "stdout",
     "output_type": "stream",
     "text": [
      "Test Statistic\n",
      "-0.48\n",
      "\n",
      "P-Value\n",
      "0.63\n"
     ]
    }
   ],
   "source": [
    "# Print the test statistic its p-value\n",
    "print(\"Test Statistic\")\n",
    "print(round(test_stat, 2))\n",
    "\n",
    "print(\"\\nP-Value\")\n",
    "print(round(pvalue, 2))"
   ]
  },
  {
   "cell_type": "markdown",
   "metadata": {},
   "source": [
    "                          P-value\n",
    "p-val = 0.63 > 0.10 = $\\ alpha$   --> fail to reject null hypthesis<br>\n",
    "\n",
    "- don't ahve evidence against equal population proportions\n",
    "\n",
    "Formally, based on our sample and our p-value, we fail to reject the null hypothesis. We conclude that there is no significant difference between the population proportion of parents of black and Hispanic children who report their child has has swimming lessons."
   ]
  },
  {
   "cell_type": "markdown",
   "metadata": {},
   "source": [
    "# One Population Mean\n",
    "\n",
    "#### Research Question \n",
    "\n",
    "Is the average **cartwheel distance** (in inches) for adults \n",
    "more than 80 inches?\n",
    "\n",
    "**Population**: All adults  \n",
    "**Parameter of Interest**: $\\mu$, population mean cartwheel distance.\n",
    "\n",
    "**Null Hypothesis:** $h_0: \\mu$ = 80<br>\n",
    "**Alternative Hypthosis:** $h_a: \\mu$ > 80\n",
    "\n",
    "where $\\mu$ represents the population meanchartwheel distance (inches) for all adults<br>\n",
    "\n",
    "Significance Level = 5%<br>\n",
    "25 Adults\n",
    "\n",
    "Minimum = 63 inches <br>\n",
    "Maximum = 115 inches <br>\n",
    "Mean = $\\mu = 82.46$\n",
    "\n",
    "Standard Deviation = $\\sigma = 15.06$"
   ]
  },
  {
   "cell_type": "code",
   "execution_count": 11,
   "metadata": {},
   "outputs": [
    {
     "data": {
      "text/html": [
       "<div>\n",
       "<style scoped>\n",
       "    .dataframe tbody tr th:only-of-type {\n",
       "        vertical-align: middle;\n",
       "    }\n",
       "\n",
       "    .dataframe tbody tr th {\n",
       "        vertical-align: top;\n",
       "    }\n",
       "\n",
       "    .dataframe thead th {\n",
       "        text-align: right;\n",
       "    }\n",
       "</style>\n",
       "<table border=\"1\" class=\"dataframe\">\n",
       "  <thead>\n",
       "    <tr style=\"text-align: right;\">\n",
       "      <th></th>\n",
       "      <th>ID</th>\n",
       "      <th>Age</th>\n",
       "      <th>Gender</th>\n",
       "      <th>GenderGroup</th>\n",
       "      <th>Glasses</th>\n",
       "      <th>GlassesGroup</th>\n",
       "      <th>Height</th>\n",
       "      <th>Wingspan</th>\n",
       "      <th>CWDistance</th>\n",
       "      <th>Complete</th>\n",
       "      <th>CompleteGroup</th>\n",
       "      <th>Score</th>\n",
       "    </tr>\n",
       "  </thead>\n",
       "  <tbody>\n",
       "    <tr>\n",
       "      <th>0</th>\n",
       "      <td>1</td>\n",
       "      <td>56</td>\n",
       "      <td>F</td>\n",
       "      <td>1</td>\n",
       "      <td>Y</td>\n",
       "      <td>1</td>\n",
       "      <td>62.0</td>\n",
       "      <td>61.0</td>\n",
       "      <td>79</td>\n",
       "      <td>Y</td>\n",
       "      <td>1</td>\n",
       "      <td>7</td>\n",
       "    </tr>\n",
       "    <tr>\n",
       "      <th>1</th>\n",
       "      <td>2</td>\n",
       "      <td>26</td>\n",
       "      <td>F</td>\n",
       "      <td>1</td>\n",
       "      <td>Y</td>\n",
       "      <td>1</td>\n",
       "      <td>62.0</td>\n",
       "      <td>60.0</td>\n",
       "      <td>70</td>\n",
       "      <td>Y</td>\n",
       "      <td>1</td>\n",
       "      <td>8</td>\n",
       "    </tr>\n",
       "    <tr>\n",
       "      <th>2</th>\n",
       "      <td>3</td>\n",
       "      <td>33</td>\n",
       "      <td>F</td>\n",
       "      <td>1</td>\n",
       "      <td>Y</td>\n",
       "      <td>1</td>\n",
       "      <td>66.0</td>\n",
       "      <td>64.0</td>\n",
       "      <td>85</td>\n",
       "      <td>Y</td>\n",
       "      <td>1</td>\n",
       "      <td>7</td>\n",
       "    </tr>\n",
       "    <tr>\n",
       "      <th>3</th>\n",
       "      <td>4</td>\n",
       "      <td>39</td>\n",
       "      <td>F</td>\n",
       "      <td>1</td>\n",
       "      <td>N</td>\n",
       "      <td>0</td>\n",
       "      <td>64.0</td>\n",
       "      <td>63.0</td>\n",
       "      <td>87</td>\n",
       "      <td>Y</td>\n",
       "      <td>1</td>\n",
       "      <td>10</td>\n",
       "    </tr>\n",
       "    <tr>\n",
       "      <th>4</th>\n",
       "      <td>5</td>\n",
       "      <td>27</td>\n",
       "      <td>M</td>\n",
       "      <td>2</td>\n",
       "      <td>N</td>\n",
       "      <td>0</td>\n",
       "      <td>73.0</td>\n",
       "      <td>75.0</td>\n",
       "      <td>72</td>\n",
       "      <td>N</td>\n",
       "      <td>0</td>\n",
       "      <td>4</td>\n",
       "    </tr>\n",
       "  </tbody>\n",
       "</table>\n",
       "</div>"
      ],
      "text/plain": [
       "   ID  Age Gender  GenderGroup Glasses  GlassesGroup  Height  Wingspan  \\\n",
       "0   1   56      F            1       Y             1    62.0      61.0   \n",
       "1   2   26      F            1       Y             1    62.0      60.0   \n",
       "2   3   33      F            1       Y             1    66.0      64.0   \n",
       "3   4   39      F            1       N             0    64.0      63.0   \n",
       "4   5   27      M            2       N             0    73.0      75.0   \n",
       "\n",
       "   CWDistance Complete  CompleteGroup  Score  \n",
       "0          79        Y              1      7  \n",
       "1          70        Y              1      8  \n",
       "2          85        Y              1      7  \n",
       "3          87        Y              1     10  \n",
       "4          72        N              0      4  "
      ]
     },
     "execution_count": 11,
     "metadata": {},
     "output_type": "execute_result"
    }
   ],
   "source": [
    "df = pd.read_csv(\"Cartwheeldata.csv\")\n",
    "df.head()"
   ]
  },
  {
   "cell_type": "markdown",
   "metadata": {},
   "source": [
    "## Examine Results, Check Asumptions Summarize Data via Test Statistic\n",
    "\n",
    "### Assumptions:\n",
    "- Sample of **CW Distance measurements conside a simple random sample**.\n",
    "- Normal distribution for CW Distance in population(not as critical given large sample size, but still graph our data!)"
   ]
  },
  {
   "cell_type": "code",
   "execution_count": 12,
   "metadata": {},
   "outputs": [
    {
     "data": {
      "image/png": "[encoded data removed]",
      "text/plain": [
       "<Figure size 720x504 with 1 Axes>"
      ]
     },
     "metadata": {
      "needs_background": "light"
     },
     "output_type": "display_data"
    }
   ],
   "source": [
    "import matplotlib.pyplot as plt\n",
    "# Creating histogram \n",
    "fig, ax = plt.subplots(figsize =(10, 7)) \n",
    "ax.hist(df[\"CWDistance\"], bins = [70,80,90,100,110]) \n",
    "  \n",
    "# Show plot \n",
    "plt.show() "
   ]
  },
  {
   "cell_type": "code",
   "execution_count": 13,
   "metadata": {},
   "outputs": [
    {
     "data": {
      "image/png": "[encoded data removed]",
      "text/plain": [
       "<Figure size 432x288 with 1 Axes>"
      ]
     },
     "metadata": {
      "needs_background": "light"
     },
     "output_type": "display_data"
    }
   ],
   "source": [
    "import statsmodels.api as sm\n",
    "from matplotlib import pyplot as plt\n",
    "import scipy.stats as stats\n",
    "\n",
    "# import pylab as py \n",
    "# d = df[\"CWDistance\"].values\n",
    "# sm.qqplot(d, fit=True, line ='45') \n",
    "# py.show() \n",
    "\n",
    "# fig = sm.qqplot(df[\"CWDistance\"], stats.t, distargs=(4,))\n",
    "# plt.show()\n",
    "\n",
    "#qqplot against same as above, but with mean 3 and std 10:\n",
    "#fig = sm.qqplot(df[\"CWDistance\"], stats.t, distargs=(4,), loc=3, scale=10)\n",
    "#plt.show()\n",
    "\n",
    "#Automatically determine parameters for t distribution including the loc and scale:\n",
    "fig = sm.qqplot(df[\"CWDistance\"], stats.t, fit=True, line='45')\n",
    "plt.show()"
   ]
  },
  {
   "cell_type": "markdown",
   "metadata": {},
   "source": [
    "histogram and a Q-Q plot of our 25 cartwheel distance measurements. And both of these graphical summaries are showing some **modest deviations** from that bell curve or normality condition. However, we do have **25 observations**, that's a reasonable sample size starting to be somewhat large enough so that we could say that CLT, that Central Limit Theorem is still going to allow us to have the model for the sample means be approximately normal, so that initial normality condition for the original population isn't quite so crucial.\n",
    "\n",
    "- is sample mean of 82.48 inches *significantly greater* than hypothesized mean of 80 inches ?\n",
    "\n",
    "To check so we need to check stanrd error of sample mean\n",
    "\n",
    "standard error of the sample mean = $\\frac{\\sigma}{\\sqrt{n}}$\n",
    "\n",
    "But we dont know population mean for all the cartwheel distance of sample data. we have to use data of 25 obervation. We will measure our sample standard deviation S in our standard error expression.\n",
    "\n",
    "**estimated** standard error of the sample mean = $\\frac{S}{\\sqrt{n}}$"
   ]
  },
  {
   "cell_type": "code",
   "execution_count": 17,
   "metadata": {},
   "outputs": [
    {
     "data": {
      "text/plain": [
       "array([25.  , 82.48, 15.06])"
      ]
     },
     "execution_count": 17,
     "metadata": {},
     "output_type": "execute_result"
    }
   ],
   "source": [
    "n = len(df)\n",
    "mean = df[\"CWDistance\"].mean()\n",
    "sd = df[\"CWDistance\"].std()\n",
    "np.round((n, mean, sd),2)"
   ]
  },
  {
   "cell_type": "markdown",
   "metadata": {},
   "source": [
    "TEst statistics assumpotion distribution of sample mean is normal\n",
    "\n",
    "t = $$\\frac{best\\ estimate\\ -\\ null\\ value}{estiamted\\ std\\ error} \\ = \\frac {\\hat x - 80}{\\frac{S}{\\sqrt{n}}}$$\n",
    "t = 0.82"
   ]
  },
  {
   "cell_type": "code",
   "execution_count": 18,
   "metadata": {},
   "outputs": [
    {
     "data": {
      "text/plain": [
       "3.01"
      ]
     },
     "execution_count": 18,
     "metadata": {},
     "output_type": "execute_result"
    }
   ],
   "source": [
    "m = 82.48\n",
    "null = 80\n",
    "sd = 15.05\n",
    "n = 25\n",
    "\n",
    "e_std = sd/np.sqrt(n)\n",
    "e_std = round(e_std,3)\n",
    "e_std"
   ]
  },
  {
   "cell_type": "code",
   "execution_count": 19,
   "metadata": {},
   "outputs": [
    {
     "data": {
      "text/plain": [
       "0.82"
      ]
     },
     "execution_count": 19,
     "metadata": {},
     "output_type": "execute_result"
    }
   ],
   "source": [
    "t = (m - null)/(e_std)\n",
    "t = round(t,2)\n",
    "t"
   ]
  },
  {
   "cell_type": "markdown",
   "metadata": {},
   "source": [
    "Our sample mean is only **0.82** (estimated) standard errors **above null value of 80 inches**"
   ]
  },
  {
   "cell_type": "markdown",
   "metadata": {},
   "source": [
    "             Determine P - Value\n",
    "             \n",
    "- If null hypothesis was true, would a test statistics value of only t = 0.82 be unusual enough to reject the null ?\n",
    "\n",
    "- P-value = Probability of seeing test statistics of 0.82 or more extreme assuming the null hypothsis is true.\n",
    "\n",
    "- If null hypothesis was true, t test statistics follow a student t distribution with degree of freedom n-1 = 25-1 = 24.\n",
    "\n",
    "- Since we have a one tailed test to the right<br>\n",
    "   -> More extreme measure to the right(upper tail)\n",
    "   Since our theory was that we might be bigger than 80 inches our direction was to the right, the more extreme will be measured as large or larger in that upper tail."
   ]
  },
  {
   "cell_type": "code",
   "execution_count": 20,
   "metadata": {},
   "outputs": [
    {
     "data": {
      "text/plain": [
       "0.21"
      ]
     },
     "execution_count": 20,
     "metadata": {},
     "output_type": "execute_result"
    }
   ],
   "source": [
    "pvalue = dist.norm.cdf(-np.abs(t))\n",
    "round(pvalue,2)"
   ]
  },
  {
   "cell_type": "markdown",
   "metadata": {},
   "source": [
    "#### P-value = 0.21\n",
    "                 Make a Decision about Null\n",
    "Since our P- value is much bigger than 0.05 significane level, weak evidence against the null.<br>\n",
    "  -> we fail to reject the null!\n",
    "  \n",
    "Based on estimated mean(82.48 inches), we **cannot support** the population mean cw distance is greater than 80 inches"
   ]
  },
  {
   "cell_type": "code",
   "execution_count": 21,
   "metadata": {},
   "outputs": [
    {
     "data": {
      "text/plain": [
       "(0.8234523266982029, 0.20512540845395266)"
      ]
     },
     "execution_count": 21,
     "metadata": {},
     "output_type": "execute_result"
    }
   ],
   "source": [
    "sm.stats.ztest(df[\"CWDistance\"], value = 80, alternative = \"larger\")\n"
   ]
  },
  {
   "cell_type": "markdown",
   "metadata": {},
   "source": [
    "              90% Confidence Interval Estimate\n",
    "              \n",
    "Mean = 82.48 inches<br>\n",
    "SD = 15.08 inches<br>\n",
    "n = 25 observation --> t* - 1.711<br>\n",
    "\n",
    "$\\bar x\\ \\pm\\ t^*\\ (\\frac{S}{\\sqrt {n}})$"
   ]
  },
  {
   "cell_type": "code",
   "execution_count": 22,
   "metadata": {},
   "outputs": [
    {
     "data": {
      "text/plain": [
       "77.32"
      ]
     },
     "execution_count": 22,
     "metadata": {},
     "output_type": "execute_result"
    }
   ],
   "source": [
    "mn = 82.48 \n",
    "t = 1.711\n",
    "S = 15.08\n",
    "n = 25\n",
    "\n",
    "lower = mn - (t*(S/np.sqrt(n)))\n",
    "round(lower,2)"
   ]
  },
  {
   "cell_type": "code",
   "execution_count": 23,
   "metadata": {},
   "outputs": [
    {
     "data": {
      "text/plain": [
       "87.64"
      ]
     },
     "execution_count": 23,
     "metadata": {},
     "output_type": "execute_result"
    }
   ],
   "source": [
    "upper = mn + (t*(S/np.sqrt(n)))\n",
    "round(upper,2)"
   ]
  },
  {
   "cell_type": "markdown",
   "metadata": {},
   "source": [
    "This is range of resonable values for what we think the population mean might be.\n",
    "\n",
    "NOTE: 80 inches is __IN__ confidence interval of resonable values for population mean CW distance.\n",
    "\n",
    "                         Summary\n",
    "- Hypothesis Tests are used to put theories about a parameter of interest to the test ~ parameter = population mean.\n",
    "\n",
    "- Basic Steps:\n",
    "  -  State hypothesis ( and select significance level)\n",
    "  - Examine results, check assumptions, summarize via test statistic\n",
    "  - Convert test statisitc to P-value\n",
    "  - Compare P-value to significane level to make decision \n",
    "  \n",
    "  <br>\n",
    "\n",
    "- Assumptions for One-sample (t) Test for Population mean\n",
    "  - Data consideration a random sample\n",
    "  - Population of response is normal (else n large helps)"
   ]
  },
  {
   "cell_type": "markdown",
   "metadata": {},
   "source": [
    "# Difference in means for Paired Groups\n",
    "\n",
    "#### Research Question \n",
    "20 homes remodeling their kitchens, requesting cabinet quotes from 2 suppliers\n",
    "\n",
    "Is there and average difference in cabinet quotes from these two suppliers?\n",
    "\n",
    "**Variable**: Difference in cabinet quote (Supplier A - Supplier B)\n",
    "\n",
    "**Populations**- All houses<br>\n",
    "**Parameter of interest**- Population mean difference of cabinate quotes $\\mu_d$\n",
    "  - d subscript mean we are looking at the difference\n",
    "  (Supplier A - Supplier B)\n",
    "  \n",
    "**Test for a significant mean difference in cabinate quotes at the 5% significane level.**\n",
    "\n",
    "$H_0\\ :\\ \\mu_d$ = 0\n",
    "\n",
    "$H_a\\ :\\ \\mu_d\\ \\neq$ 0\n",
    "\n",
    "we are just looking if there is any difference\n",
    "\n",
    "$\\alpha$ = 0.05\n",
    "\n",
    "                       Assumptions\n",
    "              \n",
    "We need to assume that we have a random sample of difference, i.e. a random sample of houses.\n",
    "\n",
    "We also need the population of difference to be normally distributed, We can get around this assumption if we have large sample size (about 25+) but we only have 20 observation.\n",
    "So we can look at the QQ plot thqt population of differences is normally distributed.\n",
    "\n",
    "n = 20 Observation<br>\n",
    "Min = -30<br>\n",
    "Max = 90<br>\n",
    "\n",
    "Median = 13.50<br>\n",
    "Mean = 17.30<br>\n",
    "Sd = 28.49<br>\n",
    "\n",
    "                   TEST STATISTICS\n",
    "t = $$\\frac{Best \\ estimate \\ - \\ Hypothesized \\ estimate}{Estimated\\ Standard \\ Error \\ of \\ Estimate}$$ \n",
    "\n",
    "\n",
    "t = $$\\frac {\\hat x_d\\ -\\ 0}{\\frac{S_d}{\\sqrt n}}$$ = $$\\frac {17.30\\ -\\ 0}{\\frac {28.49}{\\sqrt {20}}}$$\n",
    "\n",
    "t= 2.72\n",
    "\n",
    "This means that our observed mean difference is 2.72 estimated standard errors above our null value of zero or our hypothesized value of zero. This is quite high, but in order to tell exactly how high that is, we need to look at what the p-value is.\n",
    "\n",
    "\n",
    "             Decision & Conclusion\n",
    "`p-value = 0.014 <0.05` =$\\ alpha$<br> \n",
    "-> `reject null hypothesis`<br>\n",
    "-> have evidence against mean difference in cabinet quotes is 0<br>\n",
    "\n",
    "Formally, based on our sample and our p-value, we reject the null hypothesis. We conclude that the mean difference of cabinet quote prices for Suppliers A less B is **significantly different** from 0.\n",
    "\n",
    "           95% Confidence Interval\n",
    "     \n",
    "Mean = 17.30<br>\n",
    "SD = 28.49<br>\n",
    "n = 20<br>\n",
    "t = 2.093<br>\n",
    "\n",
    "$$\\hat x_d\\ \\pm\\ t^*\\ \\frac{S_d}{\\sqrt n}$$\n",
    "\n",
    "17.30 $\\pm$ 2.093 $(\\frac{28.49}{\\sqrt {20}})$\n",
    "\n",
    "(3.97, 30.63)<br>\n",
    "\n",
    "\n",
    "Note: 0 is NOT in our range of resonable values for mean difference in cabinet prices.<br>\n",
    "\n",
    "We find that zero is not in our arrange of reasonable values for the mean difference in cabinet prices. In this case, because all of our values are positive, that also indicates that supplier A is probably more expensive than supplier B. But because zero is not in that range of reasonable values that indicates that the mean difference is reasonably not going to be zero. \n",
    "\n",
    "                Summary\n",
    "Hypothesis Test allow you to assess theories about a population parameter of interest.<br>\n",
    "  ~ parameter = mean difference\n",
    "  \n",
    "Extension of the one mean hypothesis test<br>\n",
    "  ~ with difference<br>\n",
    "  ~ collected on same individual (house)<br>"
   ]
  },
  {
   "cell_type": "code",
   "execution_count": 43,
   "metadata": {},
   "outputs": [
    {
     "data": {
      "text/plain": [
       "0.018175"
      ]
     },
     "execution_count": 43,
     "metadata": {},
     "output_type": "execute_result"
    }
   ],
   "source": [
    "pvalue = dist.norm.cdf(-np.abs(2.093))\n",
    "round(pvalue,6)"
   ]
  },
  {
   "cell_type": "code",
   "execution_count": 41,
   "metadata": {},
   "outputs": [
    {
     "data": {
      "text/plain": [
       "2.6687598116169546"
      ]
     },
     "execution_count": 41,
     "metadata": {},
     "output_type": "execute_result"
    }
   ],
   "source": [
    "17/6.37"
   ]
  },
  {
   "cell_type": "code",
   "execution_count": 40,
   "metadata": {},
   "outputs": [
    {
     "data": {
      "text/plain": [
       "6.3705576678969"
      ]
     },
     "execution_count": 40,
     "metadata": {},
     "output_type": "execute_result"
    }
   ],
   "source": [
    "28.49/(np.sqrt(20))"
   ]
  },
  {
   "cell_type": "markdown",
   "metadata": {},
   "source": [
    "# Difference in means for Independent Groups\n",
    "\n",
    "#### Research Question \n",
    "\n",
    "Considering Mexican-American adults (ages 18-29) living in the United States, do males have a significantly higher mean Body Mass Index than females?\n",
    "\n",
    "- **Population:** Mexican-American adults (ages 18-29) in the U.S.\n",
    "- **Parameter of Interest($\\mu_1 - \\mu_2$):** Body Mass Index or BMI ($\\frac {Kg}{m^2}$)\n",
    "\n",
    "           Steps to perform a HYpothesis Test\n",
    "1) Define null alternative hypotheses.<br>\n",
    "2) Examine data, check assumption, and calculate test statistic<br>\n",
    "3) Determine corresponding p-value<br>\n",
    "4) Make a decision about null hypothesis<br>\n",
    "\n",
    "            Steps 1\n",
    "$H_0: \\mu_1 = \\mu_2$ or $(\\mu_1 - \\mu_2 = 0)$<br>\n",
    "$H_a: \\mu_1 \\neq \\mu_2$ or $(\\mu_1 - \\mu_2 \\neq 0)$<br>\n",
    "\n",
    "Significance level = 5%\n",
    "  \n",
    "             Step 2: Calculate Test Statistic\n",
    "             \n",
    "Best Estimate :$\\bar x_1 - \\bar x_2$ = 23.57 - 23.83 = 0.74\n",
    "\n",
    "Is our sample mean difference of 0.74 $\\frac {kg}{m^2}$ significanlty different than 0 ?<br>\n",
    "\n",
    "We'll use a test statistic to find out\n",
    "\n",
    "A measure of how far our sample statistic is from our hypothesized population parameter, in terms of estimate standard errors.<br>\n",
    "\n",
    "The further away our sample statistic is, the less confident we'll be in our null hypothessized value\n",
    "\n",
    "t = $$\\frac{Best \\ estimate \\ - \\ Hypothesized \\ estimate}{Estimated\\ Standard \\ Error \\ of \\ Estimate}$$ \n",
    "\n",
    "                   Pooled Approch\n",
    "The variance of the two populations are assumed to be equal ($\\sigma_{1}^{2}= \\sigma_{1}^{2}$)\n",
    "$$t=\\frac{(\\bar x_1 - \\bar x_2) -0}{S_p \\sqrt{\\frac {1}{n_1}+\\frac {1}{n_2}}}$$\n",
    "$S_p$ is pooled standard deviation\n",
    "\n",
    "                   Unpooled Approach\n",
    "The assumption if equal variance is dropped.\n",
    "$$t=\\frac{(\\bar x_1 - \\bar x_2) -0}{\\sqrt{\\frac {S_1^2}{n_1}+\\frac {S_2^2}{n_2}}}$$\n",
    "\n",
    "Male <br>\n",
    "st.dev = 6.24<br>\n",
    "\n",
    "Female <br>\n",
    "st.dev = 6.53<br>\n",
    "\n",
    "Because the IQR's and SD are simmilar the pooled approach will be used\n",
    "\n",
    "$$t=\\frac{(\\bar x_1 - \\bar x_2) -0}{\\sqrt{\\frac{(n_1-1)s_1^2 + (n_2-1)s_2^2}{n_1+n_2 -2}}  \\sqrt{\\frac{1}{n_1} + \\frac{1}{n_2}}}$$\n",
    "\n",
    "$$t=\\frac{(23.57 - 22.83)}{\\sqrt{\\frac{(23.57)6.24^2 + (238)6.43^2}{495}}  \\sqrt{\\frac{1}{258} + \\frac{1}{239}}}$$\n",
    "\n",
    "$$t=\\frac {0.74}{0.0898*6.332}=1.30$$\n",
    "\n",
    "Our difference is sample means is only 1.30 (estimated) standard errors above the null difference of 0 $\\frac {km}{m^2}$\n",
    "\n",
    "If the null hypothesis $\\mu_1 - \\mu_2 = 0$ were true, would a test statistic value of 1.30 be unusual enough to reject the null?\n",
    "\n",
    "P-value: assuming the null hypothesis is true, it is the probability of observing a test statistic of 1.30 or more extreme\n",
    "\n",
    "                   Determine P-Value\n",
    "Using a t(df) distribution where df = $n_1 + n_2 - 2$\n",
    "\n",
    "Our alternative hypothesis is two sided$(\\mu_1 - \\mu_2 \\neq 0)$so we will check both upper and lower tail\n",
    "\n",
    "\n",
    "                    p-value = 0.19\n",
    "                   \n",
    "If the difference in population mean BMI between males and females was really 0 $\\frac{kg}{m^2}$, then observing a difference in sample means of 0.74$\\frac{kg}{m^2}$ (i.e a t-statistics of 1.30) or more extreme is fairly likely.\n",
    "\n",
    "Our `p-Value is larger` than the `0.05 significance` level, which means there is weak evidence against the null.\n",
    "\n",
    "Thus, we `fail to reject the  null`!!\n",
    "\n",
    "                   Make a Decision\n",
    "                   \n",
    "Based on our estimated difference in sample means, we cannot support that there is a significant difference between the population mean BMI for males and the population mean BMI for females for the population of all the Mexican-Americans adults (ages 18-29) living in the U.S.\n",
    "\n",
    "                   95% Confidence Interval Results\n",
    "                   \n",
    "In a previous lecture, we calculated the 95% CI for the difference in mean BMI between males and females\n",
    "\n",
    "(-0.385, 1.865)\n",
    "\n",
    "Our test value of $0 kg/m^2$ falls within our interval. This is a resonable value for the difference in mean BMI. Because zero is contained in our interval our confidence interval agree with our hypothesis tests results.\n",
    "\n",
    "                   Summary\n",
    "                   \n",
    "- Hypothesis Tests are used to put theories about a parameter of interest to test<br>\n",
    "  ~ parameter = difference in population means\n",
    "- Basic Steps:\n",
    "  - Define hypothesis (and select significance level)\n",
    "  - Examine data, check assumptions and calculate test statistic\n",
    "  - Determine corresponding p-value\n",
    "  - Make a decision about null hypothesis\n",
    "- Assumptions for Two-Sample (t) Test for Population Means\n",
    "  - data are two simple random sample independent\n",
    "  - both populations of responses are normal (else n large helps)\n",
    "  \n",
    "  "
   ]
  },
  {
   "cell_type": "code",
   "execution_count": 39,
   "metadata": {},
   "outputs": [
    {
     "data": {
      "text/plain": [
       "0.193601"
      ]
     },
     "execution_count": 39,
     "metadata": {},
     "output_type": "execute_result"
    }
   ],
   "source": [
    "pvalue = 2*dist.norm.cdf(-np.abs(1.30))\n",
    "round(pvalue,6)"
   ]
  },
  {
   "cell_type": "markdown",
   "metadata": {},
   "source": [
    "# Difference in means for Independent Groups\n",
    "\n",
    "#### Research Question \n",
    "\n",
    "Considering adults in the NHANES data, do males have a significantly higher mean Body Mass Index than females?\n",
    "\n",
    "**Population**: Adults in the NHANES data.  \n",
    "**Parameter of Interest**: $\\mu_1 - \\mu_2$, Body Mass Index.  \n",
    "**Null Hypothesis:** $\\mu_1 = \\mu_2$  \n",
    "**Alternative Hypthosis:** $\\mu_1 \\neq \\mu_2$\n",
    "\n",
    "2976 Females \n",
    "$\\mu_1 = 29.94$  \n",
    "$\\sigma_1 = 7.75$  \n",
    "\n",
    "2759 Male Adults  \n",
    "$\\mu_2 = 28.78$  \n",
    "$\\sigma_2 = 6.25$  \n",
    "\n",
    "$\\mu_1 - \\mu_2 = 1.16$"
   ]
  },
  {
   "cell_type": "code",
   "execution_count": 44,
   "metadata": {},
   "outputs": [
    {
     "data": {
      "text/html": [
       "<div>\n",
       "<style scoped>\n",
       "    .dataframe tbody tr th:only-of-type {\n",
       "        vertical-align: middle;\n",
       "    }\n",
       "\n",
       "    .dataframe tbody tr th {\n",
       "        vertical-align: top;\n",
       "    }\n",
       "\n",
       "    .dataframe thead th {\n",
       "        text-align: right;\n",
       "    }\n",
       "</style>\n",
       "<table border=\"1\" class=\"dataframe\">\n",
       "  <thead>\n",
       "    <tr style=\"text-align: right;\">\n",
       "      <th></th>\n",
       "      <th>SEQN</th>\n",
       "      <th>ALQ101</th>\n",
       "      <th>ALQ110</th>\n",
       "      <th>ALQ130</th>\n",
       "      <th>SMQ020</th>\n",
       "      <th>RIAGENDR</th>\n",
       "      <th>RIDAGEYR</th>\n",
       "      <th>RIDRETH1</th>\n",
       "      <th>DMDCITZN</th>\n",
       "      <th>DMDEDUC2</th>\n",
       "      <th>...</th>\n",
       "      <th>BPXSY2</th>\n",
       "      <th>BPXDI2</th>\n",
       "      <th>BMXWT</th>\n",
       "      <th>BMXHT</th>\n",
       "      <th>BMXBMI</th>\n",
       "      <th>BMXLEG</th>\n",
       "      <th>BMXARML</th>\n",
       "      <th>BMXARMC</th>\n",
       "      <th>BMXWAIST</th>\n",
       "      <th>HIQ210</th>\n",
       "    </tr>\n",
       "  </thead>\n",
       "  <tbody>\n",
       "    <tr>\n",
       "      <th>0</th>\n",
       "      <td>83732</td>\n",
       "      <td>1.0</td>\n",
       "      <td>NaN</td>\n",
       "      <td>1.0</td>\n",
       "      <td>1</td>\n",
       "      <td>1</td>\n",
       "      <td>62</td>\n",
       "      <td>3</td>\n",
       "      <td>1.0</td>\n",
       "      <td>5.0</td>\n",
       "      <td>...</td>\n",
       "      <td>124.0</td>\n",
       "      <td>64.0</td>\n",
       "      <td>94.8</td>\n",
       "      <td>184.5</td>\n",
       "      <td>27.8</td>\n",
       "      <td>43.3</td>\n",
       "      <td>43.6</td>\n",
       "      <td>35.9</td>\n",
       "      <td>101.1</td>\n",
       "      <td>2.0</td>\n",
       "    </tr>\n",
       "    <tr>\n",
       "      <th>1</th>\n",
       "      <td>83733</td>\n",
       "      <td>1.0</td>\n",
       "      <td>NaN</td>\n",
       "      <td>6.0</td>\n",
       "      <td>1</td>\n",
       "      <td>1</td>\n",
       "      <td>53</td>\n",
       "      <td>3</td>\n",
       "      <td>2.0</td>\n",
       "      <td>3.0</td>\n",
       "      <td>...</td>\n",
       "      <td>140.0</td>\n",
       "      <td>88.0</td>\n",
       "      <td>90.4</td>\n",
       "      <td>171.4</td>\n",
       "      <td>30.8</td>\n",
       "      <td>38.0</td>\n",
       "      <td>40.0</td>\n",
       "      <td>33.2</td>\n",
       "      <td>107.9</td>\n",
       "      <td>NaN</td>\n",
       "    </tr>\n",
       "    <tr>\n",
       "      <th>2</th>\n",
       "      <td>83734</td>\n",
       "      <td>1.0</td>\n",
       "      <td>NaN</td>\n",
       "      <td>NaN</td>\n",
       "      <td>1</td>\n",
       "      <td>1</td>\n",
       "      <td>78</td>\n",
       "      <td>3</td>\n",
       "      <td>1.0</td>\n",
       "      <td>3.0</td>\n",
       "      <td>...</td>\n",
       "      <td>132.0</td>\n",
       "      <td>44.0</td>\n",
       "      <td>83.4</td>\n",
       "      <td>170.1</td>\n",
       "      <td>28.8</td>\n",
       "      <td>35.6</td>\n",
       "      <td>37.0</td>\n",
       "      <td>31.0</td>\n",
       "      <td>116.5</td>\n",
       "      <td>2.0</td>\n",
       "    </tr>\n",
       "    <tr>\n",
       "      <th>3</th>\n",
       "      <td>83735</td>\n",
       "      <td>2.0</td>\n",
       "      <td>1.0</td>\n",
       "      <td>1.0</td>\n",
       "      <td>2</td>\n",
       "      <td>2</td>\n",
       "      <td>56</td>\n",
       "      <td>3</td>\n",
       "      <td>1.0</td>\n",
       "      <td>5.0</td>\n",
       "      <td>...</td>\n",
       "      <td>134.0</td>\n",
       "      <td>68.0</td>\n",
       "      <td>109.8</td>\n",
       "      <td>160.9</td>\n",
       "      <td>42.4</td>\n",
       "      <td>38.5</td>\n",
       "      <td>37.7</td>\n",
       "      <td>38.3</td>\n",
       "      <td>110.1</td>\n",
       "      <td>2.0</td>\n",
       "    </tr>\n",
       "    <tr>\n",
       "      <th>4</th>\n",
       "      <td>83736</td>\n",
       "      <td>2.0</td>\n",
       "      <td>1.0</td>\n",
       "      <td>1.0</td>\n",
       "      <td>2</td>\n",
       "      <td>2</td>\n",
       "      <td>42</td>\n",
       "      <td>4</td>\n",
       "      <td>1.0</td>\n",
       "      <td>4.0</td>\n",
       "      <td>...</td>\n",
       "      <td>114.0</td>\n",
       "      <td>54.0</td>\n",
       "      <td>55.2</td>\n",
       "      <td>164.9</td>\n",
       "      <td>20.3</td>\n",
       "      <td>37.4</td>\n",
       "      <td>36.0</td>\n",
       "      <td>27.2</td>\n",
       "      <td>80.4</td>\n",
       "      <td>2.0</td>\n",
       "    </tr>\n",
       "  </tbody>\n",
       "</table>\n",
       "<p>5 rows × 28 columns</p>\n",
       "</div>"
      ],
      "text/plain": [
       "    SEQN  ALQ101  ALQ110  ALQ130  SMQ020  RIAGENDR  RIDAGEYR  RIDRETH1  \\\n",
       "0  83732     1.0     NaN     1.0       1         1        62         3   \n",
       "1  83733     1.0     NaN     6.0       1         1        53         3   \n",
       "2  83734     1.0     NaN     NaN       1         1        78         3   \n",
       "3  83735     2.0     1.0     1.0       2         2        56         3   \n",
       "4  83736     2.0     1.0     1.0       2         2        42         4   \n",
       "\n",
       "   DMDCITZN  DMDEDUC2  ...  BPXSY2  BPXDI2  BMXWT  BMXHT  BMXBMI  BMXLEG  \\\n",
       "0       1.0       5.0  ...   124.0    64.0   94.8  184.5    27.8    43.3   \n",
       "1       2.0       3.0  ...   140.0    88.0   90.4  171.4    30.8    38.0   \n",
       "2       1.0       3.0  ...   132.0    44.0   83.4  170.1    28.8    35.6   \n",
       "3       1.0       5.0  ...   134.0    68.0  109.8  160.9    42.4    38.5   \n",
       "4       1.0       4.0  ...   114.0    54.0   55.2  164.9    20.3    37.4   \n",
       "\n",
       "   BMXARML  BMXARMC  BMXWAIST  HIQ210  \n",
       "0     43.6     35.9     101.1     2.0  \n",
       "1     40.0     33.2     107.9     NaN  \n",
       "2     37.0     31.0     116.5     2.0  \n",
       "3     37.7     38.3     110.1     2.0  \n",
       "4     36.0     27.2      80.4     2.0  \n",
       "\n",
       "[5 rows x 28 columns]"
      ]
     },
     "execution_count": 44,
     "metadata": {},
     "output_type": "execute_result"
    }
   ],
   "source": [
    "da = pd.read_csv('nhanes_2015_2016.csv')\n",
    "da.head()"
   ]
  },
  {
   "cell_type": "code",
   "execution_count": 46,
   "metadata": {},
   "outputs": [],
   "source": [
    "females = da[da[\"RIAGENDR\"] == 2]\n",
    "male = da[da[\"RIAGENDR\"] == 1]"
   ]
  },
  {
   "cell_type": "code",
   "execution_count": 28,
   "metadata": {},
   "outputs": [
    {
     "data": {
      "text/plain": [
       "(2976, 29.939945652173996, 7.75331880954568)"
      ]
     },
     "execution_count": 28,
     "metadata": {},
     "output_type": "execute_result"
    }
   ],
   "source": [
    "n1 = len(females)\n",
    "mu1 = females[\"BMXBMI\"].mean()\n",
    "sd1 = females[\"BMXBMI\"].std()\n",
    "\n",
    "(n1, mu1, sd1)"
   ]
  },
  {
   "cell_type": "code",
   "execution_count": 30,
   "metadata": {},
   "outputs": [
    {
     "data": {
      "text/plain": [
       "array([2759.  ,   28.78,    6.25])"
      ]
     },
     "execution_count": 30,
     "metadata": {},
     "output_type": "execute_result"
    }
   ],
   "source": [
    "n2 = len(male)\n",
    "mu2 = male[\"BMXBMI\"].mean()\n",
    "sd2 = male[\"BMXBMI\"].std()\n",
    "\n",
    "np.round((n2, mu2, sd2),2)"
   ]
  },
  {
   "cell_type": "code",
   "execution_count": 31,
   "metadata": {},
   "outputs": [
    {
     "data": {
      "text/plain": [
       "(6.1755933531383205, 6.591544431126401e-10)"
      ]
     },
     "execution_count": 31,
     "metadata": {},
     "output_type": "execute_result"
    }
   ],
   "source": [
    "sm.stats.ztest(females[\"BMXBMI\"].dropna(), male[\"BMXBMI\"].dropna())"
   ]
  },
  {
   "cell_type": "code",
   "execution_count": 60,
   "metadata": {},
   "outputs": [
    {
     "data": {
      "text/plain": [
       "7e-10"
      ]
     },
     "execution_count": 60,
     "metadata": {},
     "output_type": "execute_result"
    }
   ],
   "source": [
    "pvalue = 2*dist.norm.cdf(-np.abs(6.175))\n",
    "round(pvalue,10)"
   ]
  },
  {
   "cell_type": "code",
   "execution_count": 63,
   "metadata": {},
   "outputs": [
    {
     "data": {
      "text/plain": [
       "0.26229508196721313"
      ]
     },
     "execution_count": 63,
     "metadata": {},
     "output_type": "execute_result"
    }
   ],
   "source": [
    "64/244"
   ]
  },
  {
   "cell_type": "code",
   "execution_count": null,
   "metadata": {},
   "outputs": [],
   "source": []
  }
 ],
 "metadata": {
  "kernelspec": {
   "display_name": "Python 3",
   "language": "python",
   "name": "python3"
  },
  "language_info": {
   "codemirror_mode": {
    "name": "ipython",
    "version": 3
   },
   "file_extension": ".py",
   "mimetype": "text/x-python",
   "name": "python",
   "nbconvert_exporter": "python",
   "pygments_lexer": "ipython3",
   "version": "3.6.2"
  }
 },
 "nbformat": 4,
 "nbformat_minor": 4
}
