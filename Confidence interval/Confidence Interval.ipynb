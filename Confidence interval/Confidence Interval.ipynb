{
 "cells": [
  {
   "cell_type": "markdown",
   "metadata": {},
   "source": [
    "# Confidence Interval\n",
    "\n",
    "### Why Confidence Intervals?\n",
    "\n",
    "Confidence intervals are a calculated range or boundary around a parameter or a statistic that is supported mathematically with a certain level of confidence.  For example, in the lecture, we estimated, with 95% confidence, that the population proportion of parents with a toddler that use a car seat for all travel with their toddler was somewhere between 82.2% and 87.7%.\n",
    "\n",
    "This is *__different__* than having a 95% probability that the true population proportion is within our confidence interval.\n",
    "\n",
    "Essentially, if we were to repeat this process, 95% of our calculated confidence intervals would contain the true proportion.\n",
    "\n",
    "### How are Confidence Intervals Calculated?\n",
    "\n",
    "Our equation for calculating confidence intervals is as follows:\n",
    "\n",
    "$$Best\\ Estimate \\pm Margin\\ of\\ Error$$\n",
    "\n",
    "Where the *Best Estimate* is the **observed population proportion or mean** and the *Margin of Error* is the **t-multiplier**.\n",
    "\n",
    "The t-multiplier is calculated based on the degrees of freedom and desired confidence level.  For samples with more than 30 observations and a confidence level of 95%, the t-multiplier is 1.96\n",
    "\n",
    "The equation to create a 95% confidence interval can also be shown as:\n",
    "\n",
    "$$Population\\ Proportion\\ or\\ Mean\\ \\pm (t\\ multiplier *\\ Standard\\ Error)$$\n",
    "\n",
    "Lastly, the Standard Error is calculated differenly for population proportion and mean:\n",
    "\n",
    "$$Standard\\ Error \\ for\\ Population\\ Proportion = \\sqrt{\\frac{Population\\ Proportion * (1 - Population\\ Proportion)}{Number\\ Of\\ Observations}}$$\n",
    "\n",
    "$$Standard\\ Error \\ for\\ Mean = \\frac{Standard\\ Deviation}{\\sqrt{Number\\ Of\\ Observations}}$$"
   ]
  },
  {
   "cell_type": "code",
   "execution_count": 7,
   "metadata": {},
   "outputs": [],
   "source": [
    "n_case = 659\n",
    "positive_case = 540\n",
    "\n",
    "p_hat = 540/659\n",
    "\n",
    "# 95 percent\n",
    "confi_interval = p_hat + 1.96*((p_hat*(1-p_hat))/n_case)**.5"
   ]
  },
  {
   "cell_type": "code",
   "execution_count": 8,
   "metadata": {},
   "outputs": [
    {
     "data": {
      "text/plain": [
       "0.7900537499137914"
      ]
     },
     "execution_count": 8,
     "metadata": {},
     "output_type": "execute_result"
    }
   ],
   "source": [
    "p_hat - 1.96*((p_hat*(1-p_hat))/n_case)**.5"
   ]
  },
  {
   "cell_type": "code",
   "execution_count": 10,
   "metadata": {},
   "outputs": [
    {
     "data": {
      "text/plain": [
       "0.8487929875672404"
      ]
     },
     "execution_count": 10,
     "metadata": {},
     "output_type": "execute_result"
    }
   ],
   "source": [
    "p_hat + 1.96*((p_hat*(1-p_hat))/n_case)**.5"
   ]
  },
  {
   "cell_type": "markdown",
   "metadata": {},
   "source": [
    "Different z Multiplier\n",
    "\n",
    "- 90% = 1.645\n",
    "- 95% = 1.96\n",
    "- 98% = 2.326\n",
    "- 99% = 2.576\n"
   ]
  },
  {
   "cell_type": "markdown",
   "metadata": {},
   "source": [
    "# Conservativs confedence interval"
   ]
  },
  {
   "cell_type": "code",
   "execution_count": 1,
   "metadata": {},
   "outputs": [],
   "source": [
    "n_case = 659\n",
    "positive_case = 540\n",
    "\n",
    "p_hat = 540/659"
   ]
  },
  {
   "cell_type": "code",
   "execution_count": 9,
   "metadata": {},
   "outputs": [
    {
     "data": {
      "text/plain": [
       "0.8583778380970969"
      ]
     },
     "execution_count": 9,
     "metadata": {},
     "output_type": "execute_result"
    }
   ],
   "source": [
    "p_hat + (1/(n_case)**0.5)"
   ]
  },
  {
   "cell_type": "code",
   "execution_count": 7,
   "metadata": {},
   "outputs": [
    {
     "data": {
      "text/plain": [
       "0.7804688993839349"
      ]
     },
     "execution_count": 7,
     "metadata": {},
     "output_type": "execute_result"
    }
   ],
   "source": [
    "p_hat - (1/(n_case)**0.5)"
   ]
  },
  {
   "cell_type": "markdown",
   "metadata": {},
   "source": [
    "# Difference in proportion Confidence Interval"
   ]
  },
  {
   "cell_type": "markdown",
   "metadata": {},
   "source": [
    "Best Estimate $\\pm$ Margin of Error\n",
    "\n",
    "$\\hat{P}_1$ - $\\hat{P}_2$ $\\pm$ Margin of Error<br>\n",
    "$\\hat{P}_1$ - $\\hat{P}_2$ $\\pm$ \"a few\" * se($\\hat{P}_1$ - $\\hat{P}_1$) <br>\n",
    "$\\hat{P}_1$ - $\\hat{P}_2$ $\\pm$ 1.96 * \n",
    " $\\sqrt{\\frac{ \\hat{P}_1(1- \\hat{P}_1)}{n_1} + \\frac{ \\hat{P}_2(1- \\hat{P}_2)}{n_2}}$"
   ]
  },
  {
   "cell_type": "markdown",
   "metadata": {},
   "source": [
    "What is the difference in population of parents reporting that their childer age 6-18 have some swiming lessons between white children and black children?<br>\n",
    "\n",
    "- Difference in population proportions($\\hat{P}_1$ - $\\hat{P}_2$)"
   ]
  },
  {
   "cell_type": "markdown",
   "metadata": {},
   "source": [
    "Survey report\n",
    "\n",
    "- out of 247 parents of black children  91 says their childnre were taking swiming lessons age 6-18. \n",
    "- out of 988 white children  543 says their childnre were taking swiming lessons age 6-18.\n",
    "\n",
    "\n"
   ]
  },
  {
   "cell_type": "code",
   "execution_count": 23,
   "metadata": {},
   "outputs": [
    {
     "data": {
      "text/plain": [
       "0.18117408906882598"
      ]
     },
     "execution_count": 23,
     "metadata": {},
     "output_type": "execute_result"
    }
   ],
   "source": [
    "n1 = 988\n",
    "n2 = 247\n",
    "p_hat1 = 543/988  # parents of white\n",
    "p_hat2 = 91/247   # parents of black\n",
    "\n",
    "p_hat1 - p_hat2"
   ]
  },
  {
   "cell_type": "code",
   "execution_count": 29,
   "metadata": {},
   "outputs": [
    {
     "data": {
      "text/plain": [
       "0.2476867047470739"
      ]
     },
     "execution_count": 29,
     "metadata": {},
     "output_type": "execute_result"
    }
   ],
   "source": [
    "DIff_prop = 0.18 + 1.96*((p_hat1*(1-p_hat1)/(n1)) +\n",
    "                         (p_hat2*(1-p_hat2)/(n2)))**.5\n",
    "\n",
    "DIff_prop"
   ]
  },
  {
   "cell_type": "code",
   "execution_count": 30,
   "metadata": {},
   "outputs": [
    {
     "data": {
      "text/plain": [
       "0.11231329525292608"
      ]
     },
     "execution_count": 30,
     "metadata": {},
     "output_type": "execute_result"
    }
   ],
   "source": [
    "Diff_prop = 0.18 - 1.96*((p_hat1*(1-p_hat1)/(n1)) +\n",
    "                         (p_hat2*(1-p_hat2)/(n2)))**.5\n",
    "\n",
    "Diff_prop"
   ]
  },
  {
   "cell_type": "markdown",
   "metadata": {},
   "source": [
    "with 95% confidence, the population proportion of parents with white children who have taken swimming lessons is 11.23 to 24.77% higher than the population proportion of parents with black children who have taken swimming lessons"
   ]
  },
  {
   "cell_type": "markdown",
   "metadata": {},
   "source": [
    "### interval for difference\n",
    "- is there a difference between two parameters ?\n",
    "- if paramters are equal --> difference is 0\n",
    "- if parameters are unequal --> difference is not 0<br>\n",
    "\n",
    "Look for 0 in range of resonable values, if zero is not contqained in that confidence interval then our parameters are unequal\n",
    "\n",
    "### Asumptions\n",
    "- we need to assume that we have two independent random samples.\n",
    "\n",
    "we also need large enough sample sizes to assume that the distribution of out estimate is normal. that is we need $n_1\\hat{P}_1, n_1(1-\\hat{P}_2), n_2\\hat{P}_2$ and $n_2(1-\\hat{P}_2)$ to all be at least 10\n",
    "\n",
    "- which means we need atleast 10 Yes and 10 No for each sample\n"
   ]
  },
  {
   "cell_type": "markdown",
   "metadata": {},
   "source": [
    "## Closer Look at estimated SE\n",
    "Estimated Standard Error = $\\sqrt{\\frac{\\hat p(1-\\hat p)}n}$\n",
    "\n",
    "which is maximized when **${\\hat p}$ = 0.5**\n",
    "\n",
    "conservative standard error = $\\frac{1}{2*\\sqrt{n}}$"
   ]
  },
  {
   "cell_type": "markdown",
   "metadata": {},
   "source": [
    "Example<br>\n",
    "$\\hat p$ $\\pm$ 2 * $\\frac{1}{2\\sqrt{n}}$ <br>\n",
    "=> $\\hat p$ $\\pm$  $\\frac{1}{\\sqrt{n}}$ \n",
    "\n",
    "$\\hat p$ = 0.85<br>\n",
    "n = 659\n",
    "\n",
    "- Conservative 95% Confidence Interval, 4% Margin of Error"
   ]
  },
  {
   "cell_type": "code",
   "execution_count": 35,
   "metadata": {},
   "outputs": [
    {
     "name": "stdout",
     "output_type": "stream",
     "text": [
      "0.81 0.89\n"
     ]
    }
   ],
   "source": [
    "print(round(0.85-(1/(659)**0.5),2),round(0.85+(1/(659)**0.5),2))"
   ]
  },
  {
   "cell_type": "markdown",
   "metadata": {},
   "source": [
    "### MOE\n",
    "\n",
    "MOE = $\\frac{1}{\\sqrt n}$"
   ]
  },
  {
   "cell_type": "markdown",
   "metadata": {},
   "source": [
    "MOE depends on confidence level and sample size"
   ]
  },
  {
   "cell_type": "markdown",
   "metadata": {},
   "source": [
    "**What sample size would we need** to have `95 percent (conservative) confidene interval` with a Margin of `Error` of only `3%` (0.03)?"
   ]
  },
  {
   "cell_type": "code",
   "execution_count": 25,
   "metadata": {},
   "outputs": [
    {
     "data": {
      "text/plain": [
       "1111.111111111111"
      ]
     },
     "execution_count": 25,
     "metadata": {},
     "output_type": "execute_result"
    }
   ],
   "source": [
    "n = 1/(0.03)**2\n",
    "n"
   ]
  },
  {
   "cell_type": "markdown",
   "metadata": {},
   "source": [
    "- sample size is inversely proportional to margin error\n",
    "- sample size should be greater then 1112 to have hmargin error of 3 %.\n",
    "- n>= 1,112"
   ]
  },
  {
   "cell_type": "markdown",
   "metadata": {},
   "source": [
    "### change the confidence inteval to 99 %"
   ]
  },
  {
   "cell_type": "markdown",
   "metadata": {},
   "source": [
    "- $\\hat P$ $\\pm$ Z* $\\frac{1}{(2 \\sqrt n}$)\n",
    "\n",
    "- **MoE** = Z * $\\frac{1}{2 \\sqrt n}$\n",
    "\n",
    "- n = ($\\frac {Z^* }{ 2*MoE)}$)$^2$"
   ]
  },
  {
   "cell_type": "code",
   "execution_count": 12,
   "metadata": {},
   "outputs": [
    {
     "data": {
      "text/plain": [
       "1843.2711111111114"
      ]
     },
     "execution_count": 12,
     "metadata": {},
     "output_type": "execute_result"
    }
   ],
   "source": [
    "# at 99 per condidence z = 2.576\n",
    "\n",
    "n = (2.576/(2*0.03))**2\n",
    "n"
   ]
  },
  {
   "cell_type": "code",
   "execution_count": 27,
   "metadata": {},
   "outputs": [
    {
     "data": {
      "text/plain": [
       "600.25"
      ]
     },
     "execution_count": 27,
     "metadata": {},
     "output_type": "execute_result"
    }
   ],
   "source": [
    "# at 94 per condidence z = 1.96 , moe = 4% \n",
    "n = (1.96/(2*0.04))**2\n",
    "n"
   ]
  },
  {
   "cell_type": "code",
   "execution_count": 28,
   "metadata": {},
   "outputs": [
    {
     "data": {
      "text/plain": [
       "1502.8544444444444"
      ]
     },
     "execution_count": 28,
     "metadata": {},
     "output_type": "execute_result"
    }
   ],
   "source": [
    "n = (2.326/(2*0.03))**2\n",
    "n"
   ]
  },
  {
   "cell_type": "code",
   "execution_count": 29,
   "metadata": {},
   "outputs": [
    {
     "data": {
      "text/plain": [
       "0.06434015210126405"
      ]
     },
     "execution_count": 29,
     "metadata": {},
     "output_type": "execute_result"
    }
   ],
   "source": [
    "1.96 *(1/(2*(np.sqrt(232))))"
   ]
  },
  {
   "cell_type": "markdown",
   "metadata": {},
   "source": [
    "                   Summary \n",
    "- Estimated standard error may be too small, or inaccurate based off sample so cam employ conservative approch.\n",
    "\n",
    "- Conservative approch --> determine sample size needed based on confidence level and desired margin error"
   ]
  },
  {
   "cell_type": "markdown",
   "metadata": {},
   "source": [
    "n>=1844"
   ]
  },
  {
   "cell_type": "code",
   "execution_count": 14,
   "metadata": {},
   "outputs": [
    {
     "data": {
      "text/plain": [
       "1067.1111111111109"
      ]
     },
     "execution_count": 14,
     "metadata": {},
     "output_type": "execute_result"
    }
   ],
   "source": [
    "(1.96/(2*0.03))**2"
   ]
  },
  {
   "cell_type": "markdown",
   "metadata": {},
   "source": [
    "# One Mean"
   ]
  },
  {
   "cell_type": "markdown",
   "metadata": {},
   "source": [
    "### Sample Distribuation of sample Mean\n",
    "\n",
    "If model for popoulation of response is approximately normal (or sample size is 'large' engough), distribution of sample mean is (approx.) normal. \n",
    "\n",
    "Standard deviation of sampling distribution of statistics is called s standard error of that statistc.\n",
    "- Standard error of the sample mean = $\\frac {\\sigma}{\\sqrt n}$\n",
    "\n",
    "- Estimated standard error of sample mean = $\\frac {S}{\\sqrt n}$"
   ]
  },
  {
   "cell_type": "markdown",
   "metadata": {},
   "source": [
    "### Confidence Interval Basics\n",
    "\n",
    "**Best Estiamte** $\\pm$ Margin of Error<br>\n",
    "**Best Estimate** = Unbiased Point Estimate<br>\n",
    "**Margin OF Error** = \"a few\" Estimate Standard Errors<br>\n",
    "**\"a few\"** = multiplier from appropriate distribution based on desired confidence level and sample design<br>\n",
    "\n",
    "**95% Confidence Level = 0.05 Significance**<br>\n",
    "\n",
    "sample mean $\\pm$ \"a few\" * estimate standard error of sample mean<br>\n",
    "### $\\bar x$ $\\pm$ $t^*$ $\\frac{s}{\\sqrt n}$\n",
    "\n",
    "$t^*$ multiplier comes from a t-distribution with n-1 degree of freedom.<br>\n",
    "95% confidence<br>\n",
    "n = 25 --> $t^*$ = 2.064<br>\n",
    "n = 1000 --> $t^*$ = 1.962<br>\n",
    "\n",
    "if we do have 95 % confidence and we have sample size of 25 as we do here then multiplier have to be litter bit more than 2.064 in order to have that 95% confidence level attained.<br>\n",
    "\n",
    "With a larger sample size, our sample standard deviation is going to be better estimate of that true standrd deviation and our multiplier will start to reflect that."
   ]
  },
  {
   "cell_type": "code",
   "execution_count": 43,
   "metadata": {},
   "outputs": [
    {
     "name": "stdout",
     "output_type": "stream",
     "text": [
      "88.7 76 2\n"
     ]
    }
   ],
   "source": [
    "Mean = 82.48\n",
    "Sd = 15.06\n",
    "n = 25\n",
    "t = 2.064\n",
    "\n",
    "print(round(82.48 + 2.064 *(15.06/(25)**.5),2),\n",
    "      round(82.48 - 2.064 *(15.06/(25)**.5)),2)"
   ]
  },
  {
   "cell_type": "markdown",
   "metadata": {},
   "source": [
    "With 95% confidence, the population mean cartwheel distance for all adults is estimated to be between 76.26 inches and 88.80 inches.<br>\n",
    "\n",
    "#### What does \"with 95% confidence\" mean?<br>\n",
    "\n",
    "if this procedure were reapeted over and over each time producing a 95% confidence interval estimate,<br>\n",
    "\n",
    "we would **expect 95% of those resulting intervals to contain the popuplation mean cartwheel distance.**<br>\n",
    "\n",
    "                    Summary\n",
    "- Confidence Interval are used to give an interval estimate for our parameter of interest ~ **a population mean.**\n",
    "\n",
    "- Center of Confidence Interval is our best estiamte ~ **the sample mean.**\n",
    "\n",
    "- Margin of Error is \"few\" (estimate) standard errors **~ for means we use $t^*$ multipliers**"
   ]
  },
  {
   "cell_type": "markdown",
   "metadata": {},
   "source": [
    "## Difference in means for paired Data\n",
    "\n",
    "- When we have paired data, we want to treat the two sets of values simultaneously. <br>\n",
    "- We can't look at them separately because they're matched in some way.\n",
    "  - Measurement colleted on the same individual.\n",
    "  - Measurement colleted on the matched individual.\n",
    "    - age, gender, weight.\n",
    "- variable: Difference of measurement within pairs.\n",
    "\n",
    "              Reaserch Question\n",
    "              \n",
    "what is the average difference between the older twin's and younger twin's self-reported education?\n",
    "\n",
    "- Population - All identical twins.\n",
    "- Parameter of Interest- Population mean difference of self report education level $\\mu_d$.\n",
    "              diffence = older - younger\n",
    "              \n",
    "Construct 95% confidence Interval for mean difference of self-reported education for a set of identical twins.<br>\n",
    "\n",
    "n = 340 observations<br>\n",
    "Minimum = -3.5 years<br>\n",
    "maximum = 4 years<br>\n",
    "72.1% had a difference of 0 years<br>\n",
    "\n",
    "Mean = 0.0838 years<br>\n",
    "Standard Deviation = 0.7627 years."
   ]
  },
  {
   "cell_type": "markdown",
   "metadata": {},
   "source": [
    "\n",
    "**Best Estiamte** $\\pm$ Margin of Error<br>\n",
    "\n",
    "sample mean difference $\\pm$ \"a few\" * estimate standard error<br>\n",
    "\n",
    "### $\\bar x$ $\\pm$ $t^*$ $\\frac{S_d}{\\sqrt n}$\n",
    "\n",
    "$t^*$ multiplier comes from a t-distribution with n-1 degree of freedom.<br>\n",
    "95% confidence<br>\n",
    "n = 25 --> $t^*$ = 2.064<br>\n",
    "n = 1000 --> $t^*$ = 1.962<br>"
   ]
  },
  {
   "cell_type": "code",
   "execution_count": 64,
   "metadata": {},
   "outputs": [
    {
     "name": "stdout",
     "output_type": "stream",
     "text": [
      "0.0029 0.1651\n"
     ]
    }
   ],
   "source": [
    "n = 340 \n",
    "t = 1.967\n",
    "x = 0.084\n",
    "t = 1.967\n",
    "sd= 0.76\n",
    "\n",
    "print(round(x - t*(sd/(n)**.5),4),\n",
    "      round(x + t*(sd/(n)**.5),4))"
   ]
  },
  {
   "cell_type": "code",
   "execution_count": null,
   "metadata": {},
   "outputs": [],
   "source": [
    "n = 500 \n",
    "t = 1.967\n",
    "x = 0.084\n",
    "t = 1.967\n",
    "sd= 0.76\n",
    "\n",
    "print(round(x - t*(sd/(n)**.5),4),\n",
    "      round(x + t*(sd/(n)**.5),4))"
   ]
  },
  {
   "cell_type": "markdown",
   "metadata": {},
   "source": [
    "            Interpretation the confidence Interval\n",
    "\n",
    "**\"range of resonable values for our parameter\"**\n",
    "\n",
    "With 95% confidence, the population mean difference of the older tiwen's less the Young twin's self-reported education is estimated to be between 0.0025 years and 0.1652"
   ]
  },
  {
   "cell_type": "markdown",
   "metadata": {},
   "source": [
    "#### How to interpret that confidence interval\n",
    "Confidence interval are range of resonable values for our parameter. So keeping in mind that we go from 0.0025 years to 0.1652 years, we seee that both ends of our confidence interval are on the positive side. That mean all the values within the confidence interval are on the positive side. That indicate that with 95 percent confidence we actually expect older twin to ahve had more education since a positive value incidaces that the older twin does have more education. However these values are close to zero so we can say the education level jump for the twin migh not be a huge increase.\n",
    "\n",
    "### Interval for Difference\n",
    "\n",
    "- is there a mean differene between the eduation level of twins?\n",
    "-  If education are general equal --> mean difference is 0\n",
    "- If education levels are unequal --> mean difference is not 0\n",
    "- Look for 0 in the range of resonable values\n",
    "\n",
    "\n",
    "### Asumptions\n",
    "\n",
    "We need to asume the we have **random sample of identical twins sets.**\n",
    "\n",
    "**Population of differences is normal** (or a large enough sample size can help to bypass the assumption)\n",
    "\n",
    "### Summary\n",
    " - Extension of the mean confidence interval<br>\n",
    "   ~ use difference variable now.\n",
    " - Data need to be paired to calculate a difference variable<br>\n",
    "   ~ two measurements on same individual<br>\n",
    "   ~ two measurements on similar, matched individuals."
   ]
  },
  {
   "cell_type": "markdown",
   "metadata": {},
   "source": [
    "# Estimating a Difference in Population Means with Confidence"
   ]
  },
  {
   "cell_type": "markdown",
   "metadata": {},
   "source": [
    "                Research Question\n",
    "                \n",
    "Consider Mexican - American adults(ages 18 - 29) living in United States, do males and females differ significantly in mean Body Mas Index (BMI)?\n",
    "\n",
    "- **Population Mexican** - American (age 18-19) in U.S.\n",
    "- **Parameter of Interest**($\\mu_1$ - $\\mu_2$): Body Mass Index or BMI (kg/$m^2$)\n",
    "\n",
    "\n",
    "### Sampling Distribution of Difference in Two (Independent) Sample Means\n",
    "\n",
    "- Standard error  =\n",
    "$\\sqrt{\\frac{\\sigma_1^2}{n_1} + \\frac{\\sigma_1^2}{n_2}}$\n",
    "\n",
    "- Estimated standard  = $\\sqrt{\\frac{S_1^2}{n_1} + \\frac{S_1^2}{n_2}}$\n",
    "\n",
    "\n",
    "             Confidence Interval approches\n",
    "             \n",
    "                  Pooled Approach\n",
    "The variance of two population are assumed to be equal ($\\sigma_1^2$ = $\\sigma_2^2$)<br>\n",
    "\n",
    "                  Unpooled Approach\n",
    "The assumption of equal variance is dropped\n",
    " \n",
    "### Unpooled Confidence Interval calculations\n",
    "Best Estimate $\\pm$ Margin of Error\n",
    "\n",
    "Difference in sample means $\\pm$ \"a few\" * estimated standard error\n",
    "\n",
    "($\\bar x_1$ - $\\bar x_2$) $\\pm$ $t^*$ $\\sqrt{\\frac{S_1^2}{n_1} + \\frac{S_1^2}{n_2}}$\n",
    "\n",
    "### Pooled Confidence Interval calculations\n",
    "Best Estimate $\\pm$ Margin of Error\n",
    "\n",
    "Difference in sample means $\\pm$ \"a few\" * estimated standard error\n",
    "\n",
    "($\\bar x_1$ - $\\bar x_2$) $\\pm$  $t^*$ $\\sqrt{\\frac{(n_1-1)s_1^2 + (n_2-1)s_2^2}{n_1+n_2 -2}}  \\sqrt{\\frac{1}{n_1} + \\frac{1}{n_2}}$\n",
    " \n",
    "$t^*$ multiplier comes from t- distribution with $n_1$ + $n_2$ -  2 degree of freedom. Again, this `approch can be used if we assume the population variaces are equal`."
   ]
  },
  {
   "cell_type": "code",
   "execution_count": 73,
   "metadata": {},
   "outputs": [
    {
     "data": {
      "text/plain": [
       "-0.38558930273222525"
      ]
     },
     "execution_count": 73,
     "metadata": {},
     "output_type": "execute_result"
    }
   ],
   "source": [
    "# Male\n",
    "mean_m = 23.57\n",
    "sd_m = 6.24\n",
    "n_m = 258\n",
    "\n",
    "#Female\n",
    "mean_f = 22.83\n",
    "sd_f = 6.43\n",
    "n_f = 239\n",
    "\n",
    "(mean_m - mean_f) - 1.98 *((((258-1)*6.24**2)+((239-1)*6.43**2))/(258 + 239 -2))**.5 * (1/258 +1/239)**.5\n"
   ]
  },
  {
   "cell_type": "code",
   "execution_count": 74,
   "metadata": {},
   "outputs": [
    {
     "data": {
      "text/plain": [
       "1.8655893027322292"
      ]
     },
     "execution_count": 74,
     "metadata": {},
     "output_type": "execute_result"
    }
   ],
   "source": [
    "(mean_m - mean_f) + 1.98 * ((((258-1)*6.24**2)+((239-1)*6.43**2))/(258 + 239 -2))**.5* (1/258 +1/239)**.5\n"
   ]
  },
  {
   "cell_type": "markdown",
   "metadata": {},
   "source": [
    "With 95% confidence, the difference in mean body mass index between males and femaels for all Mexican - American adults (ages 18-29) in the U.S. estimated to be between -0.38 km/$m^2$ and 1.865 km/$m^2$.\n",
    "\n",
    "we would expect 95% of those resulting intervals to contain the difference in population mean BMI.\n",
    "\n",
    "                   Summary\n",
    "- Confidence Intervals are used to give an interval estimate for our parameter of interest<br>\n",
    "   ~ difference in population means\n",
    "- Center of the confidence Interval is our best estimate<br>\n",
    "   ~ difference in sample means.\n",
    "- Margin of Error is a \"few\" (estimated) standard errors <br>\n",
    "   ~ for two means we use $t^*$ multipliers (pooled vs. unpooled)\n",
    "- Assumptions for CI's for Difference in Population Means<br>\n",
    "   ~ data are two simple random samples, independence.<br>\n",
    "   ~ both population of response are normal( else n large helps)"
   ]
  },
  {
   "cell_type": "markdown",
   "metadata": {},
   "source": [
    "# Confidence Intervals in Python\n",
    "\n",
    "### How are Confidence Intervals Calculated?\n",
    "\n",
    "Our equation for calculating confidence intervals is as follows:\n",
    "\n",
    "$$Best\\ Estimate \\pm Margin\\ of\\ Error$$\n",
    "\n",
    "Where the *Best Estimate* is the **observed population proportion or mean** and the *Margin of Error* is the **t-multiplier**.\n",
    "\n",
    "The t-multiplier is calculated based on the degrees of freedom and desired confidence level.  For samples with more than 30 observations and a confidence level of 95%, the t-multiplier is 1.96\n",
    "\n",
    "The equation to create a 95% confidence interval can also be shown as:\n",
    "\n",
    "$$Population\\ Proportion\\ or\\ Mean\\ \\pm (t-multiplier *\\ Standard\\ Error)$$\n",
    "\n",
    "The Standard Error(SE) is calculated differenly for population proportion and mean:\n",
    "\n",
    "$$Standard\\ Error \\ for\\ Population\\ Proportion = \\sqrt{\\frac{Population\\ Proportion * (1 - Population\\ Proportion)}{Number\\ Of\\ Observations}}$$\n",
    "\n",
    "\n",
    "$$Standard\\ Error \\ for\\ Mean = \\frac{Standard\\ Deviation}{\\sqrt{Number\\ Of\\ Observations}}$$\n",
    "\n",
    "\n",
    "Lastly, the standard error for difference of population proportions and means is:\n",
    "\n",
    "$$Standard\\ Error\\ for\\ Difference\\ of\\ Two\\ Population\\ Proportions\\ Or\\ Means = \\sqrt{(SE_{\\ 1})^2 + (SE_{\\ 2})^2}$$"
   ]
  },
  {
   "cell_type": "code",
   "execution_count": 3,
   "metadata": {},
   "outputs": [],
   "source": [
    "import numpy as np"
   ]
  },
  {
   "cell_type": "code",
   "execution_count": 4,
   "metadata": {},
   "outputs": [
    {
     "data": {
      "text/plain": [
       "0.01390952774409444"
      ]
     },
     "execution_count": 4,
     "metadata": {},
     "output_type": "execute_result"
    }
   ],
   "source": [
    "tstar = 1.96\n",
    "p = .85\n",
    "n = 659\n",
    "\n",
    "se = np.sqrt((p * (1 - p))/n)\n",
    "se"
   ]
  },
  {
   "cell_type": "code",
   "execution_count": 5,
   "metadata": {},
   "outputs": [
    {
     "data": {
      "text/plain": [
       "(0.8227373256215749, 0.8772626743784251)"
      ]
     },
     "execution_count": 5,
     "metadata": {},
     "output_type": "execute_result"
    }
   ],
   "source": [
    "lcb = p - tstar * se\n",
    "ucb = p + tstar * se\n",
    "(lcb, ucb)"
   ]
  },
  {
   "cell_type": "code",
   "execution_count": 7,
   "metadata": {},
   "outputs": [
    {
     "data": {
      "text/plain": [
       "(0.8227378265796143, 0.8772621734203857)"
      ]
     },
     "execution_count": 7,
     "metadata": {},
     "output_type": "execute_result"
    }
   ],
   "source": [
    "import statsmodels.api as sm\n",
    "\n",
    "sm.stats.proportion_confint(n * p, n)"
   ]
  },
  {
   "cell_type": "code",
   "execution_count": 10,
   "metadata": {},
   "outputs": [
    {
     "data": {
      "text/html": [
       "<div>\n",
       "<style scoped>\n",
       "    .dataframe tbody tr th:only-of-type {\n",
       "        vertical-align: middle;\n",
       "    }\n",
       "\n",
       "    .dataframe tbody tr th {\n",
       "        vertical-align: top;\n",
       "    }\n",
       "\n",
       "    .dataframe thead th {\n",
       "        text-align: right;\n",
       "    }\n",
       "</style>\n",
       "<table border=\"1\" class=\"dataframe\">\n",
       "  <thead>\n",
       "    <tr style=\"text-align: right;\">\n",
       "      <th></th>\n",
       "      <th>mpg</th>\n",
       "      <th>cylinders</th>\n",
       "      <th>displacement</th>\n",
       "      <th>horsepower</th>\n",
       "      <th>weight</th>\n",
       "      <th>acceleration</th>\n",
       "      <th>model year</th>\n",
       "      <th>origin</th>\n",
       "      <th>car name</th>\n",
       "    </tr>\n",
       "  </thead>\n",
       "  <tbody>\n",
       "    <tr>\n",
       "      <th>0</th>\n",
       "      <td>18.0</td>\n",
       "      <td>8</td>\n",
       "      <td>307.0</td>\n",
       "      <td>130</td>\n",
       "      <td>3504</td>\n",
       "      <td>12.0</td>\n",
       "      <td>70</td>\n",
       "      <td>1</td>\n",
       "      <td>chevrolet chevelle malibu</td>\n",
       "    </tr>\n",
       "    <tr>\n",
       "      <th>1</th>\n",
       "      <td>15.0</td>\n",
       "      <td>8</td>\n",
       "      <td>350.0</td>\n",
       "      <td>165</td>\n",
       "      <td>3693</td>\n",
       "      <td>11.5</td>\n",
       "      <td>70</td>\n",
       "      <td>1</td>\n",
       "      <td>buick skylark 320</td>\n",
       "    </tr>\n",
       "  </tbody>\n",
       "</table>\n",
       "</div>"
      ],
      "text/plain": [
       "    mpg  cylinders  displacement horsepower  weight  acceleration  model year  \\\n",
       "0  18.0          8         307.0        130    3504          12.0          70   \n",
       "1  15.0          8         350.0        165    3693          11.5          70   \n",
       "\n",
       "   origin                   car name  \n",
       "0       1  chevrolet chevelle malibu  \n",
       "1       1          buick skylark 320  "
      ]
     },
     "execution_count": 10,
     "metadata": {},
     "output_type": "execute_result"
    }
   ],
   "source": [
    "import pandas as pd\n",
    "df = pd.read_csv('/Users/knight/Desktop/language/python/practice/Dataset/auto-mpg.csv')\n",
    "df.head(2)"
   ]
  },
  {
   "cell_type": "code",
   "execution_count": 13,
   "metadata": {},
   "outputs": [
    {
     "data": {
      "text/plain": [
       "398"
      ]
     },
     "execution_count": 13,
     "metadata": {},
     "output_type": "execute_result"
    }
   ],
   "source": [
    "mean = df[\"mpg\"].mean()\n",
    "sd   = df[\"mpg\"].std()\n",
    "n    = len(df)\n",
    "n "
   ]
  },
  {
   "cell_type": "markdown",
   "metadata": {},
   "source": [
    "**t - multiplier**  is going to be standrd 1.96\n",
    "- if number of obeservation is < 30 then we have to look at t-table with degree of freedom = (n-1) and confidence level 95 percent."
   ]
  },
  {
   "cell_type": "code",
   "execution_count": 14,
   "metadata": {},
   "outputs": [
    {
     "data": {
      "text/plain": [
       "0.3917798927426896"
      ]
     },
     "execution_count": 14,
     "metadata": {},
     "output_type": "execute_result"
    }
   ],
   "source": [
    "tstar = 1.96\n",
    "\n",
    "se = sd/np.sqrt(n)\n",
    "se"
   ]
  },
  {
   "cell_type": "code",
   "execution_count": 15,
   "metadata": {},
   "outputs": [
    {
     "data": {
      "text/plain": [
       "(22.74668427454594, 24.282461454097287)"
      ]
     },
     "execution_count": 15,
     "metadata": {},
     "output_type": "execute_result"
    }
   ],
   "source": [
    "lcb = mean - tstar * se\n",
    "ucb = mean + tstar * se\n",
    "(lcb, ucb)"
   ]
  },
  {
   "cell_type": "code",
   "execution_count": 17,
   "metadata": {},
   "outputs": [
    {
     "data": {
      "text/plain": [
       "(22.74669838467897, 24.282447343964243)"
      ]
     },
     "execution_count": 17,
     "metadata": {},
     "output_type": "execute_result"
    }
   ],
   "source": [
    "sm.stats.DescrStatsW(df[\"mpg\"]).zconfint_mean()"
   ]
  },
  {
   "cell_type": "code",
   "execution_count": 23,
   "metadata": {},
   "outputs": [
    {
     "data": {
      "text/plain": [
       "0.03250331548075334"
      ]
     },
     "execution_count": 23,
     "metadata": {},
     "output_type": "execute_result"
    }
   ],
   "source": [
    "tstar = 1.96\n",
    "p = .43\n",
    "n = 232\n",
    "\n",
    "se = np.sqrt((p * (1 - p))/n)\n",
    "se"
   ]
  },
  {
   "cell_type": "markdown",
   "metadata": {},
   "source": [
    "# Creating confidence intervals in python\n",
    "\n",
    "IMPORTANT NOTE: In this assessment, you will need to calculate a standard deviation. The Numpy and Pandas libraries both have functions/methods to perform this calculation. But they use different values for a parameter called the Delta Degrees of Freedom or DDOF.\n",
    "\n",
    "The appropriate value of DDOF to use for this assignment is 1.\n",
    "\n",
    "Numpy\n",
    "\n",
    "The numpy.std() function uses a default DDOF of 0. So if you use numpy.std() then you need to set the DDOF parameter to 1.\n",
    "\n",
    "https://numpy.org/doc/stable/reference/generated/numpy.std.html\n",
    "\n",
    "Pandas\n",
    "\n",
    "The pandas.dataframe.std() and pandas.dataframe.describe() methods use a default DDOF of 1.\n",
    "\n",
    "https://pandas.pydata.org/pandas-docs/stable/reference/api/pandas.DataFrame.std.html"
   ]
  },
  {
   "cell_type": "code",
   "execution_count": 18,
   "metadata": {},
   "outputs": [
    {
     "data": {
      "text/html": [
       "<div>\n",
       "<style scoped>\n",
       "    .dataframe tbody tr th:only-of-type {\n",
       "        vertical-align: middle;\n",
       "    }\n",
       "\n",
       "    .dataframe tbody tr th {\n",
       "        vertical-align: top;\n",
       "    }\n",
       "\n",
       "    .dataframe thead th {\n",
       "        text-align: right;\n",
       "    }\n",
       "</style>\n",
       "<table border=\"1\" class=\"dataframe\">\n",
       "  <thead>\n",
       "    <tr style=\"text-align: right;\">\n",
       "      <th></th>\n",
       "      <th>id</th>\n",
       "      <th>sex</th>\n",
       "      <th>age (months)</th>\n",
       "      <th>dlmo time</th>\n",
       "      <th>days napped</th>\n",
       "      <th>napping</th>\n",
       "      <th>nap lights outl time</th>\n",
       "      <th>nap sleep onset</th>\n",
       "      <th>nap midsleep</th>\n",
       "      <th>nap sleep offset</th>\n",
       "      <th>...</th>\n",
       "      <th>sleep onset latency</th>\n",
       "      <th>night midsleep time</th>\n",
       "      <th>night wake time</th>\n",
       "      <th>night sleep duration</th>\n",
       "      <th>night time in bed</th>\n",
       "      <th>24 h sleep duration</th>\n",
       "      <th>bedtime phase difference</th>\n",
       "      <th>sleep onset phase difference</th>\n",
       "      <th>midsleep phase difference</th>\n",
       "      <th>wake time phase difference</th>\n",
       "    </tr>\n",
       "  </thead>\n",
       "  <tbody>\n",
       "    <tr>\n",
       "      <th>0</th>\n",
       "      <td>1</td>\n",
       "      <td>female</td>\n",
       "      <td>33.7</td>\n",
       "      <td>19.24</td>\n",
       "      <td>0</td>\n",
       "      <td>0</td>\n",
       "      <td>NaN</td>\n",
       "      <td>NaN</td>\n",
       "      <td>NaN</td>\n",
       "      <td>NaN</td>\n",
       "      <td>...</td>\n",
       "      <td>0.23</td>\n",
       "      <td>1.92</td>\n",
       "      <td>7.17</td>\n",
       "      <td>629.4</td>\n",
       "      <td>643.0</td>\n",
       "      <td>629.4</td>\n",
       "      <td>-1.21</td>\n",
       "      <td>-1.44</td>\n",
       "      <td>6.68</td>\n",
       "      <td>11.93</td>\n",
       "    </tr>\n",
       "    <tr>\n",
       "      <th>1</th>\n",
       "      <td>2</td>\n",
       "      <td>female</td>\n",
       "      <td>31.5</td>\n",
       "      <td>18.27</td>\n",
       "      <td>0</td>\n",
       "      <td>0</td>\n",
       "      <td>NaN</td>\n",
       "      <td>NaN</td>\n",
       "      <td>NaN</td>\n",
       "      <td>NaN</td>\n",
       "      <td>...</td>\n",
       "      <td>0.25</td>\n",
       "      <td>1.09</td>\n",
       "      <td>6.69</td>\n",
       "      <td>672.4</td>\n",
       "      <td>700.4</td>\n",
       "      <td>672.4</td>\n",
       "      <td>-0.96</td>\n",
       "      <td>-1.21</td>\n",
       "      <td>6.82</td>\n",
       "      <td>12.42</td>\n",
       "    </tr>\n",
       "  </tbody>\n",
       "</table>\n",
       "<p>2 rows × 25 columns</p>\n",
       "</div>"
      ],
      "text/plain": [
       "   id     sex  age (months)  dlmo time  days napped  napping  \\\n",
       "0   1  female          33.7      19.24            0        0   \n",
       "1   2  female          31.5      18.27            0        0   \n",
       "\n",
       "   nap lights outl time  nap sleep onset  nap midsleep  nap sleep offset  ...  \\\n",
       "0                   NaN              NaN           NaN               NaN  ...   \n",
       "1                   NaN              NaN           NaN               NaN  ...   \n",
       "\n",
       "   sleep onset latency  night midsleep time  night wake time  \\\n",
       "0                 0.23                 1.92             7.17   \n",
       "1                 0.25                 1.09             6.69   \n",
       "\n",
       "   night sleep duration  night time in bed  24 h sleep duration  \\\n",
       "0                 629.4              643.0                629.4   \n",
       "1                 672.4              700.4                672.4   \n",
       "\n",
       "   bedtime phase difference  sleep onset phase difference  \\\n",
       "0                     -1.21                         -1.44   \n",
       "1                     -0.96                         -1.21   \n",
       "\n",
       "   midsleep phase difference  wake time phase difference  \n",
       "0                       6.68                       11.93  \n",
       "1                       6.82                       12.42  \n",
       "\n",
       "[2 rows x 25 columns]"
      ]
     },
     "execution_count": 18,
     "metadata": {},
     "output_type": "execute_result"
    }
   ],
   "source": [
    "import pandas as pd, numpy as np\n",
    "\n",
    "# Imort the data (uncomment the line below and use this if you downloaded the Jupyter notebook)\n",
    "df = pd.read_csv(\"https://raw.githubusercontent.com/UMstatspy/UMStatsPy/master/Course_2/nap_no_nap.csv\")\n",
    "df.head(2)"
   ]
  },
  {
   "cell_type": "markdown",
   "metadata": {},
   "source": [
    "**Question**: What variable is used in the column 'napping' to indicate a toddler takes a nap?  \n",
    "**Question**: What is the sample size $n$? What is the sample size for toddlers who nap, $n_1$, and toddlers who don't nap, $n_2$?\n",
    "\n",
    "#### Average bedtime confidence interval for napping and non napping toddlers\n",
    "Create two 95% confidence intervals for the average bedtime, one for toddler who nap and one for toddlers who don't.\n",
    "\n",
    "Before any analysis, we will convert 'night bedtime' into decimalized time."
   ]
  },
  {
   "cell_type": "code",
   "execution_count": 2,
   "metadata": {},
   "outputs": [],
   "source": [
    "# Convert 'night bedtime' into decimalized time\n",
    "df.loc[:,'night bedtime'] = np.floor(df['night bedtime'])*60 + np.round(df['night bedtime']%1,2 )*100\n"
   ]
  },
  {
   "cell_type": "markdown",
   "metadata": {},
   "source": [
    "Now, isolate the column 'night bedtime' for those who nap into a new variable, and those who didn't nap into another new variable."
   ]
  },
  {
   "cell_type": "code",
   "execution_count": 3,
   "metadata": {},
   "outputs": [],
   "source": [
    "bedtime_nap = df['night bedtime'][df['napping']==1]\n",
    "\n",
    "bedtime_no_nap = df['night bedtime'][df['napping']==0]"
   ]
  },
  {
   "cell_type": "markdown",
   "metadata": {},
   "source": [
    "Now find the sample mean & standard deviation bedtime for nap and no_nap."
   ]
  },
  {
   "cell_type": "code",
   "execution_count": 4,
   "metadata": {},
   "outputs": [],
   "source": [
    "nap_mean_bedtime = bedtime_nap.mean()\n",
    "\n",
    "no_nap_mean_bedtime = bedtime_no_nap.mean()"
   ]
  },
  {
   "cell_type": "code",
   "execution_count": 5,
   "metadata": {},
   "outputs": [
    {
     "data": {
      "text/plain": [
       "42.066666666666606"
      ]
     },
     "execution_count": 5,
     "metadata": {},
     "output_type": "execute_result"
    }
   ],
   "source": [
    "nap_mean_bedtime - no_nap_mean_bedtime"
   ]
  },
  {
   "cell_type": "code",
   "execution_count": 16,
   "metadata": {},
   "outputs": [
    {
     "name": "stdout",
     "output_type": "stream",
     "text": [
      "nap_sd_bedtime 34.445540177143954\n",
      "no_nap_sd_bedtime 34.30014577228499\n"
     ]
    }
   ],
   "source": [
    "nap_sd_bedtime = bedtime_nap.std()\n",
    "print('nap_sd_bedtime',nap_sd_bedtime)\n",
    "\n",
    "no_nap_sd_bedtime = bedtime_no_nap.std()\n",
    "print('no_nap_sd_bedtime',no_nap_sd_bedtime)"
   ]
  },
  {
   "cell_type": "markdown",
   "metadata": {},
   "source": [
    "Now find the standard error for $\\bar{X}_{nap}$ and $\\bar{X}_{no\\ nap}$."
   ]
  },
  {
   "cell_type": "code",
   "execution_count": 116,
   "metadata": {},
   "outputs": [
    {
     "name": "stdout",
     "output_type": "stream",
     "text": [
      "15\n",
      "5\n"
     ]
    }
   ],
   "source": [
    "n1 = len(bedtime_nap)\n",
    "print(n1)\n",
    "n2 = len(bedtime_no_nap)\n",
    "print(n2)"
   ]
  },
  {
   "cell_type": "code",
   "execution_count": 117,
   "metadata": {},
   "outputs": [
    {
     "data": {
      "text/plain": [
       "8.893800230479801"
      ]
     },
     "execution_count": 117,
     "metadata": {},
     "output_type": "execute_result"
    }
   ],
   "source": [
    "nap_se_bedtime = nap_sd_bedtime/np.sqrt(n1)\n",
    "nap_se_bedtime"
   ]
  },
  {
   "cell_type": "code",
   "execution_count": 118,
   "metadata": {},
   "outputs": [
    {
     "data": {
      "text/plain": [
       "15.339491516996253"
      ]
     },
     "execution_count": 118,
     "metadata": {},
     "output_type": "execute_result"
    }
   ],
   "source": [
    "no_nap_se_bedtime =  no_nap_sd_bedtime/np.sqrt(n2)\n",
    "no_nap_se_bedtime"
   ]
  },
  {
   "cell_type": "markdown",
   "metadata": {},
   "source": [
    "We expect the variance in sleep time for toddlers who nap and toddlers who don't nap to be the same. So we use a pooled standard error.\n",
    "\n",
    "Calculate the pooled standard error of $\\bar{X}_{nap} - \\bar{X}_{no\\ nap}$ using the formula below.\n",
    "\n",
    "$s.e.(\\bar{X}_{nap} - \\bar{X}_{no\\ nap}) = \\sqrt{\\frac{(n_1-1)s_1^2 + (n_2-1)s_2^2}{n_1+n_2-2}(\\frac{1}{n_1}+\\frac{1}{n_2})}$"
   ]
  },
  {
   "cell_type": "code",
   "execution_count": 17,
   "metadata": {},
   "outputs": [
    {
     "data": {
      "text/plain": [
       "87.65648007991194"
      ]
     },
     "execution_count": 17,
     "metadata": {},
     "output_type": "execute_result"
    }
   ],
   "source": [
    "np.sqrt(((14*8.9**2)+(4*15.33**2))/(1/15+1/5))"
   ]
  },
  {
   "cell_type": "code",
   "execution_count": 19,
   "metadata": {},
   "outputs": [
    {
     "ename": "AttributeError",
     "evalue": "'float' object has no attribute 'cdf'",
     "output_type": "error",
     "traceback": [
      "\u001b[0;31m---------------------------------------------------------------------------\u001b[0m",
      "\u001b[0;31mAttributeError\u001b[0m                            Traceback (most recent call last)",
      "\u001b[0;32m<ipython-input-19-d47270d19e60>\u001b[0m in \u001b[0;36m<module>\u001b[0;34m\u001b[0m\n\u001b[0;32m----> 1\u001b[0;31m \u001b[0;36m87.65\u001b[0m\u001b[0;34m.\u001b[0m\u001b[0mcdf\u001b[0m\u001b[0;34m(\u001b[0m\u001b[0mbedtime_nap\u001b[0m\u001b[0;34m,\u001b[0m \u001b[0mdf\u001b[0m\u001b[0;34m)\u001b[0m\u001b[0;34m\u001b[0m\u001b[0m\n\u001b[0m",
      "\u001b[0;31mAttributeError\u001b[0m: 'float' object has no attribute 'cdf'"
     ]
    }
   ],
   "source": [
    "87.65.cdf(bedtime_nap, df)"
   ]
  },
  {
   "cell_type": "markdown",
   "metadata": {},
   "source": [
    "To build a 95% confidence interval, what is the value of t\\*?  You can find this value using the percent point function: \n",
    "```\n",
    "from scipy.stats import t\n",
    "\n",
    "t.ppf(probabiliy, df)\n",
    "```\n",
    "This will return the quantile value such that to the left of this value, the tail probabiliy is equal to the input probabiliy (for the specified degrees of freedom). "
   ]
  },
  {
   "cell_type": "markdown",
   "metadata": {},
   "source": [
    "**Question**: What are the 95% confidence intervals, rounded to the nearest ten, for the average bedtime (in decimalized time) for toddlers who nap and for toddlers who don't nap? \n",
    "\n",
    "CI = $\\bar{X} \\pm \\ t^* \\cdot s.e.(\\bar{X})$\n",
    "\n",
    "Example: to find the $t^*$ for a 90% confidence interval, we want $t^*$ such that 90% of the density of the $t$ distribution lies between $-t^*$ and $t^*$.\n",
    "\n",
    "Or in other words if $X \\sim t(df)$:\n",
    "\n",
    "P($-t^*$ < X < $t^*$) = .90\n",
    "\n",
    "Which, because the $t$ distribution is symmetric, is equivalent to finding $t^*$ such that:  \n",
    "\n",
    "P(X < $t^*$) = .95\n",
    "\n",
    "So the $t^*$ for a 90% confidence interval, and lets say df=10, will be:\n",
    "\n",
    "t_star = t.ppf(.95, df=10)\n"
   ]
  },
  {
   "cell_type": "code",
   "execution_count": 6,
   "metadata": {},
   "outputs": [
    {
     "name": "stdout",
     "output_type": "stream",
     "text": [
      "1.7613101357748562\n"
     ]
    }
   ],
   "source": [
    "from scipy.stats import t\n",
    "\n",
    "# Find the t_stars for the 95% confidence intervals\n",
    "nap_t_star = t.ppf(.95, df=14)\n",
    "print(nap_t_star)"
   ]
  },
  {
   "cell_type": "code",
   "execution_count": 7,
   "metadata": {},
   "outputs": [
    {
     "name": "stdout",
     "output_type": "stream",
     "text": [
      "2.13184678133629\n"
     ]
    }
   ],
   "source": [
    "no_nap_t_star = t.ppf(.95, df=4)\n",
    "print(no_nap_t_star)"
   ]
  },
  {
   "cell_type": "code",
   "execution_count": 15,
   "metadata": {},
   "outputs": [
    {
     "data": {
      "text/plain": [
       "0.07818592546022286"
      ]
     },
     "execution_count": 15,
     "metadata": {},
     "output_type": "execute_result"
    }
   ],
   "source": [
    "import scipy.stats.distributions as dist\n",
    "\n",
    "pvalue = 2*dist.norm.cdf(-np.abs(nap_t_star))\n",
    "round(pvalue,4)\n",
    "pvalue"
   ]
  },
  {
   "cell_type": "markdown",
   "metadata": {},
   "source": [
    "**Quesion**: What is $t^*$ for nap and no nap?\n",
    "\n",
    "Now to create our confidence intervals. For the average bedtime for nap and no nap, find the upper and lower bounds for the respective confidence intervals."
   ]
  },
  {
   "cell_type": "code",
   "execution_count": 121,
   "metadata": {},
   "outputs": [
    {
     "data": {
      "text/plain": [
       "(1217.4019261751657, 1248.7314071581675)"
      ]
     },
     "execution_count": 121,
     "metadata": {},
     "output_type": "execute_result"
    }
   ],
   "source": [
    "lcb = nap_mean_bedtime - nap_t_star * nap_se_bedtime\n",
    "ucb = nap_mean_bedtime + nap_t_star * nap_se_bedtime\n",
    "(lcb, ucb)"
   ]
  },
  {
   "cell_type": "code",
   "execution_count": 122,
   "metadata": {},
   "outputs": [
    {
     "data": {
      "text/plain": [
       "(1172.0397806048036, 1209.9602193951964)"
      ]
     },
     "execution_count": 122,
     "metadata": {},
     "output_type": "execute_result"
    }
   ],
   "source": [
    "lcb = no_nap_mean_bedtime - no_nap_t_star * nap_se_bedtime\n",
    "ucb = no_nap_mean_bedtime + no_nap_t_star * nap_se_bedtime\n",
    "(lcb, ucb)"
   ]
  },
  {
   "cell_type": "code",
   "execution_count": 140,
   "metadata": {},
   "outputs": [
    {
     "data": {
      "text/plain": [
       "(1215.635138529232, 1250.498194804101)"
      ]
     },
     "execution_count": 140,
     "metadata": {},
     "output_type": "execute_result"
    }
   ],
   "source": [
    "import statsmodels.api as sm\n",
    "\n",
    "sm.stats.DescrStatsW(bedtime_nap).zconfint_mean()\n"
   ]
  },
  {
   "cell_type": "code",
   "execution_count": 141,
   "metadata": {},
   "outputs": [
    {
     "data": {
      "text/plain": [
       "(1160.9351490855297, 1221.0648509144703)"
      ]
     },
     "execution_count": 141,
     "metadata": {},
     "output_type": "execute_result"
    }
   ],
   "source": [
    "sm.stats.DescrStatsW(bedtime_no_nap).zconfint_mean()\n"
   ]
  },
  {
   "cell_type": "code",
   "execution_count": null,
   "metadata": {},
   "outputs": [],
   "source": []
  }
 ],
 "metadata": {
  "kernelspec": {
   "display_name": "Python 3",
   "language": "python",
   "name": "python3"
  },
  "language_info": {
   "codemirror_mode": {
    "name": "ipython",
    "version": 3
   },
   "file_extension": ".py",
   "mimetype": "text/x-python",
   "name": "python",
   "nbconvert_exporter": "python",
   "pygments_lexer": "ipython3",
   "version": "3.6.2"
  }
 },
 "nbformat": 4,
 "nbformat_minor": 4
}
